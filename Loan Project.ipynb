{
 "cells": [
  {
   "cell_type": "code",
   "execution_count": 1345,
   "id": "0a254fd0",
   "metadata": {},
   "outputs": [],
   "source": [
    "import numpy as np\n",
    "import pandas as pd\n",
    "import seaborn as sns\n",
    "import matplotlib.pyplot as plt\n",
    "%matplotlib inline"
   ]
  },
  {
   "cell_type": "code",
   "execution_count": 1346,
   "id": "e5b2ac97",
   "metadata": {},
   "outputs": [],
   "source": [
    "df = pd.read_csv('train loan.csv')"
   ]
  },
  {
   "cell_type": "code",
   "execution_count": 1347,
   "id": "426ba69f",
   "metadata": {},
   "outputs": [
    {
     "data": {
      "text/html": [
       "<div>\n",
       "<style scoped>\n",
       "    .dataframe tbody tr th:only-of-type {\n",
       "        vertical-align: middle;\n",
       "    }\n",
       "\n",
       "    .dataframe tbody tr th {\n",
       "        vertical-align: top;\n",
       "    }\n",
       "\n",
       "    .dataframe thead th {\n",
       "        text-align: right;\n",
       "    }\n",
       "</style>\n",
       "<table border=\"1\" class=\"dataframe\">\n",
       "  <thead>\n",
       "    <tr style=\"text-align: right;\">\n",
       "      <th></th>\n",
       "      <th>ID</th>\n",
       "      <th>Gender</th>\n",
       "      <th>DOB</th>\n",
       "      <th>Lead_Creation_Date</th>\n",
       "      <th>City_Code</th>\n",
       "      <th>City_Category</th>\n",
       "      <th>Employer_Code</th>\n",
       "      <th>Employer_Category1</th>\n",
       "      <th>Employer_Category2</th>\n",
       "      <th>Monthly_Income</th>\n",
       "      <th>...</th>\n",
       "      <th>Contacted</th>\n",
       "      <th>Source</th>\n",
       "      <th>Source_Category</th>\n",
       "      <th>Existing_EMI</th>\n",
       "      <th>Loan_Amount</th>\n",
       "      <th>Loan_Period</th>\n",
       "      <th>Interest_Rate</th>\n",
       "      <th>EMI</th>\n",
       "      <th>Var1</th>\n",
       "      <th>Approved</th>\n",
       "    </tr>\n",
       "  </thead>\n",
       "  <tbody>\n",
       "    <tr>\n",
       "      <th>0</th>\n",
       "      <td>APPC90493171225</td>\n",
       "      <td>Female</td>\n",
       "      <td>23/07/79</td>\n",
       "      <td>15/07/16</td>\n",
       "      <td>C10001</td>\n",
       "      <td>A</td>\n",
       "      <td>COM0044082</td>\n",
       "      <td>A</td>\n",
       "      <td>4.0</td>\n",
       "      <td>2000.0</td>\n",
       "      <td>...</td>\n",
       "      <td>N</td>\n",
       "      <td>S122</td>\n",
       "      <td>G</td>\n",
       "      <td>0.0</td>\n",
       "      <td>NaN</td>\n",
       "      <td>NaN</td>\n",
       "      <td>NaN</td>\n",
       "      <td>NaN</td>\n",
       "      <td>0</td>\n",
       "      <td>0</td>\n",
       "    </tr>\n",
       "    <tr>\n",
       "      <th>1</th>\n",
       "      <td>APPD40611263344</td>\n",
       "      <td>Male</td>\n",
       "      <td>07/12/86</td>\n",
       "      <td>04/07/16</td>\n",
       "      <td>C10003</td>\n",
       "      <td>A</td>\n",
       "      <td>COM0000002</td>\n",
       "      <td>C</td>\n",
       "      <td>1.0</td>\n",
       "      <td>3500.0</td>\n",
       "      <td>...</td>\n",
       "      <td>Y</td>\n",
       "      <td>S122</td>\n",
       "      <td>G</td>\n",
       "      <td>0.0</td>\n",
       "      <td>20000.0</td>\n",
       "      <td>2.0</td>\n",
       "      <td>13.25</td>\n",
       "      <td>953.0</td>\n",
       "      <td>10</td>\n",
       "      <td>0</td>\n",
       "    </tr>\n",
       "    <tr>\n",
       "      <th>2</th>\n",
       "      <td>APPE70289249423</td>\n",
       "      <td>Male</td>\n",
       "      <td>10/12/82</td>\n",
       "      <td>19/07/16</td>\n",
       "      <td>C10125</td>\n",
       "      <td>C</td>\n",
       "      <td>COM0005267</td>\n",
       "      <td>C</td>\n",
       "      <td>4.0</td>\n",
       "      <td>2250.0</td>\n",
       "      <td>...</td>\n",
       "      <td>Y</td>\n",
       "      <td>S143</td>\n",
       "      <td>B</td>\n",
       "      <td>0.0</td>\n",
       "      <td>45000.0</td>\n",
       "      <td>4.0</td>\n",
       "      <td>NaN</td>\n",
       "      <td>NaN</td>\n",
       "      <td>0</td>\n",
       "      <td>0</td>\n",
       "    </tr>\n",
       "    <tr>\n",
       "      <th>3</th>\n",
       "      <td>APPF80273865537</td>\n",
       "      <td>Male</td>\n",
       "      <td>30/01/89</td>\n",
       "      <td>09/07/16</td>\n",
       "      <td>C10477</td>\n",
       "      <td>C</td>\n",
       "      <td>COM0004143</td>\n",
       "      <td>A</td>\n",
       "      <td>4.0</td>\n",
       "      <td>3500.0</td>\n",
       "      <td>...</td>\n",
       "      <td>Y</td>\n",
       "      <td>S143</td>\n",
       "      <td>B</td>\n",
       "      <td>0.0</td>\n",
       "      <td>92000.0</td>\n",
       "      <td>5.0</td>\n",
       "      <td>NaN</td>\n",
       "      <td>NaN</td>\n",
       "      <td>7</td>\n",
       "      <td>0</td>\n",
       "    </tr>\n",
       "    <tr>\n",
       "      <th>4</th>\n",
       "      <td>APPG60994436641</td>\n",
       "      <td>Male</td>\n",
       "      <td>19/04/85</td>\n",
       "      <td>20/07/16</td>\n",
       "      <td>C10002</td>\n",
       "      <td>A</td>\n",
       "      <td>COM0001781</td>\n",
       "      <td>A</td>\n",
       "      <td>4.0</td>\n",
       "      <td>10000.0</td>\n",
       "      <td>...</td>\n",
       "      <td>Y</td>\n",
       "      <td>S134</td>\n",
       "      <td>B</td>\n",
       "      <td>2500.0</td>\n",
       "      <td>50000.0</td>\n",
       "      <td>2.0</td>\n",
       "      <td>NaN</td>\n",
       "      <td>NaN</td>\n",
       "      <td>10</td>\n",
       "      <td>0</td>\n",
       "    </tr>\n",
       "  </tbody>\n",
       "</table>\n",
       "<p>5 rows × 22 columns</p>\n",
       "</div>"
      ],
      "text/plain": [
       "                ID  Gender       DOB Lead_Creation_Date City_Code  \\\n",
       "0  APPC90493171225  Female  23/07/79           15/07/16    C10001   \n",
       "1  APPD40611263344    Male  07/12/86           04/07/16    C10003   \n",
       "2  APPE70289249423    Male  10/12/82           19/07/16    C10125   \n",
       "3  APPF80273865537    Male  30/01/89           09/07/16    C10477   \n",
       "4  APPG60994436641    Male  19/04/85           20/07/16    C10002   \n",
       "\n",
       "  City_Category Employer_Code Employer_Category1  Employer_Category2  \\\n",
       "0             A    COM0044082                  A                 4.0   \n",
       "1             A    COM0000002                  C                 1.0   \n",
       "2             C    COM0005267                  C                 4.0   \n",
       "3             C    COM0004143                  A                 4.0   \n",
       "4             A    COM0001781                  A                 4.0   \n",
       "\n",
       "   Monthly_Income  ... Contacted Source Source_Category Existing_EMI  \\\n",
       "0          2000.0  ...         N   S122               G          0.0   \n",
       "1          3500.0  ...         Y   S122               G          0.0   \n",
       "2          2250.0  ...         Y   S143               B          0.0   \n",
       "3          3500.0  ...         Y   S143               B          0.0   \n",
       "4         10000.0  ...         Y   S134               B       2500.0   \n",
       "\n",
       "  Loan_Amount  Loan_Period  Interest_Rate    EMI  Var1  Approved  \n",
       "0         NaN          NaN            NaN    NaN     0         0  \n",
       "1     20000.0          2.0          13.25  953.0    10         0  \n",
       "2     45000.0          4.0            NaN    NaN     0         0  \n",
       "3     92000.0          5.0            NaN    NaN     7         0  \n",
       "4     50000.0          2.0            NaN    NaN    10         0  \n",
       "\n",
       "[5 rows x 22 columns]"
      ]
     },
     "execution_count": 1347,
     "metadata": {},
     "output_type": "execute_result"
    }
   ],
   "source": [
    "df.head()"
   ]
  },
  {
   "cell_type": "code",
   "execution_count": 1348,
   "id": "9150b912",
   "metadata": {},
   "outputs": [
    {
     "name": "stdout",
     "output_type": "stream",
     "text": [
      "<class 'pandas.core.frame.DataFrame'>\n",
      "RangeIndex: 69713 entries, 0 to 69712\n",
      "Data columns (total 22 columns):\n",
      " #   Column                               Non-Null Count  Dtype  \n",
      "---  ------                               --------------  -----  \n",
      " 0   ID                                   69713 non-null  object \n",
      " 1   Gender                               69713 non-null  object \n",
      " 2   DOB                                  69698 non-null  object \n",
      " 3   Lead_Creation_Date                   69713 non-null  object \n",
      " 4   City_Code                            68899 non-null  object \n",
      " 5   City_Category                        68899 non-null  object \n",
      " 6   Employer_Code                        65695 non-null  object \n",
      " 7   Employer_Category1                   65695 non-null  object \n",
      " 8   Employer_Category2                   65415 non-null  float64\n",
      " 9   Monthly_Income                       69713 non-null  float64\n",
      " 10  Customer_Existing_Primary_Bank_Code  60322 non-null  object \n",
      " 11  Primary_Bank_Type                    60322 non-null  object \n",
      " 12  Contacted                            69713 non-null  object \n",
      " 13  Source                               69713 non-null  object \n",
      " 14  Source_Category                      69713 non-null  object \n",
      " 15  Existing_EMI                         69662 non-null  float64\n",
      " 16  Loan_Amount                          42004 non-null  float64\n",
      " 17  Loan_Period                          42004 non-null  float64\n",
      " 18  Interest_Rate                        22276 non-null  float64\n",
      " 19  EMI                                  22276 non-null  float64\n",
      " 20  Var1                                 69713 non-null  int64  \n",
      " 21  Approved                             69713 non-null  int64  \n",
      "dtypes: float64(7), int64(2), object(13)\n",
      "memory usage: 11.7+ MB\n"
     ]
    }
   ],
   "source": [
    "df.info()"
   ]
  },
  {
   "cell_type": "code",
   "execution_count": 1349,
   "id": "ca10975b",
   "metadata": {},
   "outputs": [
    {
     "data": {
      "text/plain": [
       "ID                                         0\n",
       "Gender                                     0\n",
       "DOB                                       15\n",
       "Lead_Creation_Date                         0\n",
       "City_Code                                814\n",
       "City_Category                            814\n",
       "Employer_Code                           4018\n",
       "Employer_Category1                      4018\n",
       "Employer_Category2                      4298\n",
       "Monthly_Income                             0\n",
       "Customer_Existing_Primary_Bank_Code     9391\n",
       "Primary_Bank_Type                       9391\n",
       "Contacted                                  0\n",
       "Source                                     0\n",
       "Source_Category                            0\n",
       "Existing_EMI                              51\n",
       "Loan_Amount                            27709\n",
       "Loan_Period                            27709\n",
       "Interest_Rate                          47437\n",
       "EMI                                    47437\n",
       "Var1                                       0\n",
       "Approved                                   0\n",
       "dtype: int64"
      ]
     },
     "execution_count": 1349,
     "metadata": {},
     "output_type": "execute_result"
    }
   ],
   "source": [
    "df.isnull().sum()"
   ]
  },
  {
   "cell_type": "code",
   "execution_count": 1350,
   "id": "d54ae8ad",
   "metadata": {},
   "outputs": [
    {
     "data": {
      "text/plain": [
       "0        23/07/79\n",
       "1        07/12/86\n",
       "2        10/12/82\n",
       "3        30/01/89\n",
       "4        19/04/85\n",
       "           ...   \n",
       "69708    31/07/83\n",
       "69709    27/01/71\n",
       "69710    01/02/92\n",
       "69711    27/06/78\n",
       "69712    31/12/89\n",
       "Name: DOB, Length: 69713, dtype: object"
      ]
     },
     "execution_count": 1350,
     "metadata": {},
     "output_type": "execute_result"
    }
   ],
   "source": [
    "df['DOB']"
   ]
  },
  {
   "cell_type": "code",
   "execution_count": 1351,
   "id": "c499120f",
   "metadata": {},
   "outputs": [],
   "source": [
    "def d(x):\n",
    "  try:\n",
    "     return x.replace(x.split(\"/\")[2],\"19\"+x.split(\"/\")[2])\n",
    "  except:\n",
    "    return x\n",
    "\n",
    "df[\"DOB\"]=df[\"DOB\"].apply(d)"
   ]
  },
  {
   "cell_type": "code",
   "execution_count": 1352,
   "id": "16316e16",
   "metadata": {},
   "outputs": [
    {
     "data": {
      "text/plain": [
       "0    23/07/1979\n",
       "1    07/12/1986\n",
       "2    10/12/1982\n",
       "3    30/01/1989\n",
       "4    19/04/1985\n",
       "Name: DOB, dtype: object"
      ]
     },
     "execution_count": 1352,
     "metadata": {},
     "output_type": "execute_result"
    }
   ],
   "source": [
    "df['DOB'].head()"
   ]
  },
  {
   "cell_type": "code",
   "execution_count": 1353,
   "id": "f709692c",
   "metadata": {},
   "outputs": [],
   "source": [
    "from datetime import date"
   ]
  },
  {
   "cell_type": "code",
   "execution_count": 1354,
   "id": "80326c56",
   "metadata": {},
   "outputs": [],
   "source": [
    "df['DOB'] = pd.to_datetime(df['DOB'],format='%d/%m/%Y')"
   ]
  },
  {
   "cell_type": "code",
   "execution_count": 1355,
   "id": "fc60da11",
   "metadata": {},
   "outputs": [
    {
     "data": {
      "text/plain": [
       "datetime.date(2023, 6, 17)"
      ]
     },
     "execution_count": 1355,
     "metadata": {},
     "output_type": "execute_result"
    }
   ],
   "source": [
    "current_year=date.today()\n",
    "current_year"
   ]
  },
  {
   "cell_type": "code",
   "execution_count": 1356,
   "id": "27266c68",
   "metadata": {},
   "outputs": [],
   "source": [
    "def age (x):\n",
    "    current_year=date.today().year\n",
    "    return current_year-x.year\n",
    "\n"
   ]
  },
  {
   "cell_type": "code",
   "execution_count": 1357,
   "id": "3bdf47c5",
   "metadata": {},
   "outputs": [
    {
     "data": {
      "text/plain": [
       "0        44.0\n",
       "1        37.0\n",
       "2        41.0\n",
       "3        34.0\n",
       "4        38.0\n",
       "         ... \n",
       "69708    40.0\n",
       "69709    52.0\n",
       "69710    31.0\n",
       "69711    45.0\n",
       "69712    34.0\n",
       "Name: Age, Length: 69713, dtype: float64"
      ]
     },
     "execution_count": 1357,
     "metadata": {},
     "output_type": "execute_result"
    }
   ],
   "source": [
    "df[\"Age\"]=df[\"DOB\"].apply(age)\n",
    "df[\"Age\"]"
   ]
  },
  {
   "cell_type": "code",
   "execution_count": 1358,
   "id": "eec6bbc2",
   "metadata": {},
   "outputs": [
    {
     "data": {
      "text/html": [
       "<div>\n",
       "<style scoped>\n",
       "    .dataframe tbody tr th:only-of-type {\n",
       "        vertical-align: middle;\n",
       "    }\n",
       "\n",
       "    .dataframe tbody tr th {\n",
       "        vertical-align: top;\n",
       "    }\n",
       "\n",
       "    .dataframe thead th {\n",
       "        text-align: right;\n",
       "    }\n",
       "</style>\n",
       "<table border=\"1\" class=\"dataframe\">\n",
       "  <thead>\n",
       "    <tr style=\"text-align: right;\">\n",
       "      <th></th>\n",
       "      <th>ID</th>\n",
       "      <th>Gender</th>\n",
       "      <th>DOB</th>\n",
       "      <th>Lead_Creation_Date</th>\n",
       "      <th>City_Code</th>\n",
       "      <th>City_Category</th>\n",
       "      <th>Employer_Code</th>\n",
       "      <th>Employer_Category1</th>\n",
       "      <th>Employer_Category2</th>\n",
       "      <th>Monthly_Income</th>\n",
       "      <th>...</th>\n",
       "      <th>Source</th>\n",
       "      <th>Source_Category</th>\n",
       "      <th>Existing_EMI</th>\n",
       "      <th>Loan_Amount</th>\n",
       "      <th>Loan_Period</th>\n",
       "      <th>Interest_Rate</th>\n",
       "      <th>EMI</th>\n",
       "      <th>Var1</th>\n",
       "      <th>Approved</th>\n",
       "      <th>Age</th>\n",
       "    </tr>\n",
       "  </thead>\n",
       "  <tbody>\n",
       "  </tbody>\n",
       "</table>\n",
       "<p>0 rows × 23 columns</p>\n",
       "</div>"
      ],
      "text/plain": [
       "Empty DataFrame\n",
       "Columns: [ID, Gender, DOB, Lead_Creation_Date, City_Code, City_Category, Employer_Code, Employer_Category1, Employer_Category2, Monthly_Income, Customer_Existing_Primary_Bank_Code, Primary_Bank_Type, Contacted, Source, Source_Category, Existing_EMI, Loan_Amount, Loan_Period, Interest_Rate, EMI, Var1, Approved, Age]\n",
       "Index: []\n",
       "\n",
       "[0 rows x 23 columns]"
      ]
     },
     "execution_count": 1358,
     "metadata": {},
     "output_type": "execute_result"
    }
   ],
   "source": [
    "df[df['Age']<0]"
   ]
  },
  {
   "cell_type": "code",
   "execution_count": 1359,
   "id": "eaa95bb9",
   "metadata": {},
   "outputs": [
    {
     "data": {
      "text/plain": [
       "ID                                         0\n",
       "Gender                                     0\n",
       "DOB                                       15\n",
       "Lead_Creation_Date                         0\n",
       "City_Code                                814\n",
       "City_Category                            814\n",
       "Employer_Code                           4018\n",
       "Employer_Category1                      4018\n",
       "Employer_Category2                      4298\n",
       "Monthly_Income                             0\n",
       "Customer_Existing_Primary_Bank_Code     9391\n",
       "Primary_Bank_Type                       9391\n",
       "Contacted                                  0\n",
       "Source                                     0\n",
       "Source_Category                            0\n",
       "Existing_EMI                              51\n",
       "Loan_Amount                            27709\n",
       "Loan_Period                            27709\n",
       "Interest_Rate                          47437\n",
       "EMI                                    47437\n",
       "Var1                                       0\n",
       "Approved                                   0\n",
       "Age                                       15\n",
       "dtype: int64"
      ]
     },
     "execution_count": 1359,
     "metadata": {},
     "output_type": "execute_result"
    }
   ],
   "source": [
    "df.isnull().sum()"
   ]
  },
  {
   "cell_type": "code",
   "execution_count": 1360,
   "id": "708893f7",
   "metadata": {},
   "outputs": [
    {
     "data": {
      "text/html": [
       "<div>\n",
       "<style scoped>\n",
       "    .dataframe tbody tr th:only-of-type {\n",
       "        vertical-align: middle;\n",
       "    }\n",
       "\n",
       "    .dataframe tbody tr th {\n",
       "        vertical-align: top;\n",
       "    }\n",
       "\n",
       "    .dataframe thead th {\n",
       "        text-align: right;\n",
       "    }\n",
       "</style>\n",
       "<table border=\"1\" class=\"dataframe\">\n",
       "  <thead>\n",
       "    <tr style=\"text-align: right;\">\n",
       "      <th></th>\n",
       "      <th>ID</th>\n",
       "      <th>Gender</th>\n",
       "      <th>DOB</th>\n",
       "      <th>Lead_Creation_Date</th>\n",
       "      <th>City_Code</th>\n",
       "      <th>City_Category</th>\n",
       "      <th>Employer_Code</th>\n",
       "      <th>Employer_Category1</th>\n",
       "      <th>Employer_Category2</th>\n",
       "      <th>Monthly_Income</th>\n",
       "      <th>...</th>\n",
       "      <th>Source</th>\n",
       "      <th>Source_Category</th>\n",
       "      <th>Existing_EMI</th>\n",
       "      <th>Loan_Amount</th>\n",
       "      <th>Loan_Period</th>\n",
       "      <th>Interest_Rate</th>\n",
       "      <th>EMI</th>\n",
       "      <th>Var1</th>\n",
       "      <th>Approved</th>\n",
       "      <th>Age</th>\n",
       "    </tr>\n",
       "  </thead>\n",
       "  <tbody>\n",
       "    <tr>\n",
       "      <th>48108</th>\n",
       "      <td>APPF70614332332</td>\n",
       "      <td>Male</td>\n",
       "      <td>NaT</td>\n",
       "      <td>05/09/16</td>\n",
       "      <td>C10004</td>\n",
       "      <td>A</td>\n",
       "      <td>NaN</td>\n",
       "      <td>NaN</td>\n",
       "      <td>NaN</td>\n",
       "      <td>0.0</td>\n",
       "      <td>...</td>\n",
       "      <td>S122</td>\n",
       "      <td>G</td>\n",
       "      <td>0.0</td>\n",
       "      <td>NaN</td>\n",
       "      <td>NaN</td>\n",
       "      <td>NaN</td>\n",
       "      <td>NaN</td>\n",
       "      <td>0</td>\n",
       "      <td>0</td>\n",
       "      <td>NaN</td>\n",
       "    </tr>\n",
       "    <tr>\n",
       "      <th>48403</th>\n",
       "      <td>APPW20050127804</td>\n",
       "      <td>Male</td>\n",
       "      <td>NaT</td>\n",
       "      <td>05/09/16</td>\n",
       "      <td>C10008</td>\n",
       "      <td>A</td>\n",
       "      <td>NaN</td>\n",
       "      <td>NaN</td>\n",
       "      <td>NaN</td>\n",
       "      <td>833.3</td>\n",
       "      <td>...</td>\n",
       "      <td>S122</td>\n",
       "      <td>G</td>\n",
       "      <td>0.0</td>\n",
       "      <td>NaN</td>\n",
       "      <td>NaN</td>\n",
       "      <td>NaN</td>\n",
       "      <td>NaN</td>\n",
       "      <td>0</td>\n",
       "      <td>0</td>\n",
       "      <td>NaN</td>\n",
       "    </tr>\n",
       "    <tr>\n",
       "      <th>48405</th>\n",
       "      <td>APPY70297276022</td>\n",
       "      <td>Male</td>\n",
       "      <td>NaT</td>\n",
       "      <td>05/09/16</td>\n",
       "      <td>C10019</td>\n",
       "      <td>B</td>\n",
       "      <td>NaN</td>\n",
       "      <td>NaN</td>\n",
       "      <td>NaN</td>\n",
       "      <td>0.0</td>\n",
       "      <td>...</td>\n",
       "      <td>S122</td>\n",
       "      <td>G</td>\n",
       "      <td>0.0</td>\n",
       "      <td>NaN</td>\n",
       "      <td>NaN</td>\n",
       "      <td>NaN</td>\n",
       "      <td>NaN</td>\n",
       "      <td>0</td>\n",
       "      <td>0</td>\n",
       "      <td>NaN</td>\n",
       "    </tr>\n",
       "    <tr>\n",
       "      <th>51441</th>\n",
       "      <td>APPI80123699031</td>\n",
       "      <td>Male</td>\n",
       "      <td>NaT</td>\n",
       "      <td>09/09/16</td>\n",
       "      <td>C10002</td>\n",
       "      <td>A</td>\n",
       "      <td>NaN</td>\n",
       "      <td>NaN</td>\n",
       "      <td>NaN</td>\n",
       "      <td>0.0</td>\n",
       "      <td>...</td>\n",
       "      <td>S122</td>\n",
       "      <td>G</td>\n",
       "      <td>0.0</td>\n",
       "      <td>NaN</td>\n",
       "      <td>NaN</td>\n",
       "      <td>NaN</td>\n",
       "      <td>NaN</td>\n",
       "      <td>0</td>\n",
       "      <td>0</td>\n",
       "      <td>NaN</td>\n",
       "    </tr>\n",
       "    <tr>\n",
       "      <th>59333</th>\n",
       "      <td>APPU10731522427</td>\n",
       "      <td>Male</td>\n",
       "      <td>NaT</td>\n",
       "      <td>20/09/16</td>\n",
       "      <td>C10025</td>\n",
       "      <td>A</td>\n",
       "      <td>NaN</td>\n",
       "      <td>NaN</td>\n",
       "      <td>NaN</td>\n",
       "      <td>0.0</td>\n",
       "      <td>...</td>\n",
       "      <td>S122</td>\n",
       "      <td>G</td>\n",
       "      <td>0.0</td>\n",
       "      <td>NaN</td>\n",
       "      <td>NaN</td>\n",
       "      <td>NaN</td>\n",
       "      <td>NaN</td>\n",
       "      <td>0</td>\n",
       "      <td>0</td>\n",
       "      <td>NaN</td>\n",
       "    </tr>\n",
       "    <tr>\n",
       "      <th>59334</th>\n",
       "      <td>APPV80984184547</td>\n",
       "      <td>Male</td>\n",
       "      <td>NaT</td>\n",
       "      <td>20/09/16</td>\n",
       "      <td>C10001</td>\n",
       "      <td>A</td>\n",
       "      <td>NaN</td>\n",
       "      <td>NaN</td>\n",
       "      <td>NaN</td>\n",
       "      <td>0.0</td>\n",
       "      <td>...</td>\n",
       "      <td>S122</td>\n",
       "      <td>G</td>\n",
       "      <td>0.0</td>\n",
       "      <td>NaN</td>\n",
       "      <td>NaN</td>\n",
       "      <td>NaN</td>\n",
       "      <td>NaN</td>\n",
       "      <td>0</td>\n",
       "      <td>0</td>\n",
       "      <td>NaN</td>\n",
       "    </tr>\n",
       "    <tr>\n",
       "      <th>59335</th>\n",
       "      <td>APPW10698163607</td>\n",
       "      <td>Male</td>\n",
       "      <td>NaT</td>\n",
       "      <td>20/09/16</td>\n",
       "      <td>C10001</td>\n",
       "      <td>A</td>\n",
       "      <td>NaN</td>\n",
       "      <td>NaN</td>\n",
       "      <td>NaN</td>\n",
       "      <td>0.0</td>\n",
       "      <td>...</td>\n",
       "      <td>S122</td>\n",
       "      <td>G</td>\n",
       "      <td>0.0</td>\n",
       "      <td>NaN</td>\n",
       "      <td>NaN</td>\n",
       "      <td>NaN</td>\n",
       "      <td>NaN</td>\n",
       "      <td>0</td>\n",
       "      <td>0</td>\n",
       "      <td>NaN</td>\n",
       "    </tr>\n",
       "    <tr>\n",
       "      <th>59336</th>\n",
       "      <td>APPX10241882727</td>\n",
       "      <td>Male</td>\n",
       "      <td>NaT</td>\n",
       "      <td>20/09/16</td>\n",
       "      <td>C10004</td>\n",
       "      <td>A</td>\n",
       "      <td>NaN</td>\n",
       "      <td>NaN</td>\n",
       "      <td>NaN</td>\n",
       "      <td>0.0</td>\n",
       "      <td>...</td>\n",
       "      <td>S122</td>\n",
       "      <td>G</td>\n",
       "      <td>0.0</td>\n",
       "      <td>NaN</td>\n",
       "      <td>NaN</td>\n",
       "      <td>NaN</td>\n",
       "      <td>NaN</td>\n",
       "      <td>0</td>\n",
       "      <td>0</td>\n",
       "      <td>NaN</td>\n",
       "    </tr>\n",
       "    <tr>\n",
       "      <th>59337</th>\n",
       "      <td>APPY90481287839</td>\n",
       "      <td>Male</td>\n",
       "      <td>NaT</td>\n",
       "      <td>20/09/16</td>\n",
       "      <td>C10003</td>\n",
       "      <td>A</td>\n",
       "      <td>NaN</td>\n",
       "      <td>NaN</td>\n",
       "      <td>NaN</td>\n",
       "      <td>0.0</td>\n",
       "      <td>...</td>\n",
       "      <td>S122</td>\n",
       "      <td>G</td>\n",
       "      <td>0.0</td>\n",
       "      <td>NaN</td>\n",
       "      <td>NaN</td>\n",
       "      <td>NaN</td>\n",
       "      <td>NaN</td>\n",
       "      <td>0</td>\n",
       "      <td>0</td>\n",
       "      <td>NaN</td>\n",
       "    </tr>\n",
       "    <tr>\n",
       "      <th>59338</th>\n",
       "      <td>APPZ80978459945</td>\n",
       "      <td>Male</td>\n",
       "      <td>NaT</td>\n",
       "      <td>20/09/16</td>\n",
       "      <td>C10002</td>\n",
       "      <td>A</td>\n",
       "      <td>NaN</td>\n",
       "      <td>NaN</td>\n",
       "      <td>NaN</td>\n",
       "      <td>0.0</td>\n",
       "      <td>...</td>\n",
       "      <td>S122</td>\n",
       "      <td>G</td>\n",
       "      <td>0.0</td>\n",
       "      <td>NaN</td>\n",
       "      <td>NaN</td>\n",
       "      <td>NaN</td>\n",
       "      <td>NaN</td>\n",
       "      <td>0</td>\n",
       "      <td>0</td>\n",
       "      <td>NaN</td>\n",
       "    </tr>\n",
       "    <tr>\n",
       "      <th>59340</th>\n",
       "      <td>APPB30787013118</td>\n",
       "      <td>Male</td>\n",
       "      <td>NaT</td>\n",
       "      <td>20/09/16</td>\n",
       "      <td>C10020</td>\n",
       "      <td>A</td>\n",
       "      <td>NaN</td>\n",
       "      <td>NaN</td>\n",
       "      <td>NaN</td>\n",
       "      <td>0.0</td>\n",
       "      <td>...</td>\n",
       "      <td>S122</td>\n",
       "      <td>G</td>\n",
       "      <td>0.0</td>\n",
       "      <td>NaN</td>\n",
       "      <td>NaN</td>\n",
       "      <td>NaN</td>\n",
       "      <td>NaN</td>\n",
       "      <td>0</td>\n",
       "      <td>0</td>\n",
       "      <td>NaN</td>\n",
       "    </tr>\n",
       "    <tr>\n",
       "      <th>59342</th>\n",
       "      <td>APPD90771543335</td>\n",
       "      <td>Male</td>\n",
       "      <td>NaT</td>\n",
       "      <td>20/09/16</td>\n",
       "      <td>C10003</td>\n",
       "      <td>A</td>\n",
       "      <td>NaN</td>\n",
       "      <td>NaN</td>\n",
       "      <td>NaN</td>\n",
       "      <td>0.0</td>\n",
       "      <td>...</td>\n",
       "      <td>S122</td>\n",
       "      <td>G</td>\n",
       "      <td>0.0</td>\n",
       "      <td>NaN</td>\n",
       "      <td>NaN</td>\n",
       "      <td>NaN</td>\n",
       "      <td>NaN</td>\n",
       "      <td>0</td>\n",
       "      <td>0</td>\n",
       "      <td>NaN</td>\n",
       "    </tr>\n",
       "    <tr>\n",
       "      <th>59343</th>\n",
       "      <td>APPE30378105441</td>\n",
       "      <td>Male</td>\n",
       "      <td>NaT</td>\n",
       "      <td>20/09/16</td>\n",
       "      <td>C10001</td>\n",
       "      <td>A</td>\n",
       "      <td>NaN</td>\n",
       "      <td>NaN</td>\n",
       "      <td>NaN</td>\n",
       "      <td>0.0</td>\n",
       "      <td>...</td>\n",
       "      <td>S122</td>\n",
       "      <td>G</td>\n",
       "      <td>0.0</td>\n",
       "      <td>NaN</td>\n",
       "      <td>NaN</td>\n",
       "      <td>NaN</td>\n",
       "      <td>NaN</td>\n",
       "      <td>0</td>\n",
       "      <td>0</td>\n",
       "      <td>NaN</td>\n",
       "    </tr>\n",
       "    <tr>\n",
       "      <th>59344</th>\n",
       "      <td>APPF60625024502</td>\n",
       "      <td>Male</td>\n",
       "      <td>NaT</td>\n",
       "      <td>20/09/16</td>\n",
       "      <td>C10020</td>\n",
       "      <td>A</td>\n",
       "      <td>NaN</td>\n",
       "      <td>NaN</td>\n",
       "      <td>NaN</td>\n",
       "      <td>0.0</td>\n",
       "      <td>...</td>\n",
       "      <td>S122</td>\n",
       "      <td>G</td>\n",
       "      <td>0.0</td>\n",
       "      <td>NaN</td>\n",
       "      <td>NaN</td>\n",
       "      <td>NaN</td>\n",
       "      <td>NaN</td>\n",
       "      <td>0</td>\n",
       "      <td>0</td>\n",
       "      <td>NaN</td>\n",
       "    </tr>\n",
       "    <tr>\n",
       "      <th>59345</th>\n",
       "      <td>APPG70464558624</td>\n",
       "      <td>Male</td>\n",
       "      <td>NaT</td>\n",
       "      <td>20/09/16</td>\n",
       "      <td>C10003</td>\n",
       "      <td>A</td>\n",
       "      <td>NaN</td>\n",
       "      <td>NaN</td>\n",
       "      <td>NaN</td>\n",
       "      <td>0.0</td>\n",
       "      <td>...</td>\n",
       "      <td>S122</td>\n",
       "      <td>G</td>\n",
       "      <td>0.0</td>\n",
       "      <td>NaN</td>\n",
       "      <td>NaN</td>\n",
       "      <td>NaN</td>\n",
       "      <td>NaN</td>\n",
       "      <td>0</td>\n",
       "      <td>0</td>\n",
       "      <td>NaN</td>\n",
       "    </tr>\n",
       "  </tbody>\n",
       "</table>\n",
       "<p>15 rows × 23 columns</p>\n",
       "</div>"
      ],
      "text/plain": [
       "                    ID Gender DOB Lead_Creation_Date City_Code City_Category  \\\n",
       "48108  APPF70614332332   Male NaT           05/09/16    C10004             A   \n",
       "48403  APPW20050127804   Male NaT           05/09/16    C10008             A   \n",
       "48405  APPY70297276022   Male NaT           05/09/16    C10019             B   \n",
       "51441  APPI80123699031   Male NaT           09/09/16    C10002             A   \n",
       "59333  APPU10731522427   Male NaT           20/09/16    C10025             A   \n",
       "59334  APPV80984184547   Male NaT           20/09/16    C10001             A   \n",
       "59335  APPW10698163607   Male NaT           20/09/16    C10001             A   \n",
       "59336  APPX10241882727   Male NaT           20/09/16    C10004             A   \n",
       "59337  APPY90481287839   Male NaT           20/09/16    C10003             A   \n",
       "59338  APPZ80978459945   Male NaT           20/09/16    C10002             A   \n",
       "59340  APPB30787013118   Male NaT           20/09/16    C10020             A   \n",
       "59342  APPD90771543335   Male NaT           20/09/16    C10003             A   \n",
       "59343  APPE30378105441   Male NaT           20/09/16    C10001             A   \n",
       "59344  APPF60625024502   Male NaT           20/09/16    C10020             A   \n",
       "59345  APPG70464558624   Male NaT           20/09/16    C10003             A   \n",
       "\n",
       "      Employer_Code Employer_Category1  Employer_Category2  Monthly_Income  \\\n",
       "48108           NaN                NaN                 NaN             0.0   \n",
       "48403           NaN                NaN                 NaN           833.3   \n",
       "48405           NaN                NaN                 NaN             0.0   \n",
       "51441           NaN                NaN                 NaN             0.0   \n",
       "59333           NaN                NaN                 NaN             0.0   \n",
       "59334           NaN                NaN                 NaN             0.0   \n",
       "59335           NaN                NaN                 NaN             0.0   \n",
       "59336           NaN                NaN                 NaN             0.0   \n",
       "59337           NaN                NaN                 NaN             0.0   \n",
       "59338           NaN                NaN                 NaN             0.0   \n",
       "59340           NaN                NaN                 NaN             0.0   \n",
       "59342           NaN                NaN                 NaN             0.0   \n",
       "59343           NaN                NaN                 NaN             0.0   \n",
       "59344           NaN                NaN                 NaN             0.0   \n",
       "59345           NaN                NaN                 NaN             0.0   \n",
       "\n",
       "       ... Source Source_Category Existing_EMI Loan_Amount Loan_Period  \\\n",
       "48108  ...   S122               G          0.0         NaN         NaN   \n",
       "48403  ...   S122               G          0.0         NaN         NaN   \n",
       "48405  ...   S122               G          0.0         NaN         NaN   \n",
       "51441  ...   S122               G          0.0         NaN         NaN   \n",
       "59333  ...   S122               G          0.0         NaN         NaN   \n",
       "59334  ...   S122               G          0.0         NaN         NaN   \n",
       "59335  ...   S122               G          0.0         NaN         NaN   \n",
       "59336  ...   S122               G          0.0         NaN         NaN   \n",
       "59337  ...   S122               G          0.0         NaN         NaN   \n",
       "59338  ...   S122               G          0.0         NaN         NaN   \n",
       "59340  ...   S122               G          0.0         NaN         NaN   \n",
       "59342  ...   S122               G          0.0         NaN         NaN   \n",
       "59343  ...   S122               G          0.0         NaN         NaN   \n",
       "59344  ...   S122               G          0.0         NaN         NaN   \n",
       "59345  ...   S122               G          0.0         NaN         NaN   \n",
       "\n",
       "       Interest_Rate  EMI  Var1  Approved  Age  \n",
       "48108            NaN  NaN     0         0  NaN  \n",
       "48403            NaN  NaN     0         0  NaN  \n",
       "48405            NaN  NaN     0         0  NaN  \n",
       "51441            NaN  NaN     0         0  NaN  \n",
       "59333            NaN  NaN     0         0  NaN  \n",
       "59334            NaN  NaN     0         0  NaN  \n",
       "59335            NaN  NaN     0         0  NaN  \n",
       "59336            NaN  NaN     0         0  NaN  \n",
       "59337            NaN  NaN     0         0  NaN  \n",
       "59338            NaN  NaN     0         0  NaN  \n",
       "59340            NaN  NaN     0         0  NaN  \n",
       "59342            NaN  NaN     0         0  NaN  \n",
       "59343            NaN  NaN     0         0  NaN  \n",
       "59344            NaN  NaN     0         0  NaN  \n",
       "59345            NaN  NaN     0         0  NaN  \n",
       "\n",
       "[15 rows x 23 columns]"
      ]
     },
     "execution_count": 1360,
     "metadata": {},
     "output_type": "execute_result"
    }
   ],
   "source": [
    "df[df['DOB'].isna()]"
   ]
  },
  {
   "cell_type": "code",
   "execution_count": 1361,
   "id": "f1f8f569",
   "metadata": {},
   "outputs": [],
   "source": [
    "df = df.dropna(subset=['DOB'])"
   ]
  },
  {
   "cell_type": "code",
   "execution_count": 1362,
   "id": "a17c4503",
   "metadata": {},
   "outputs": [
    {
     "data": {
      "text/plain": [
       "ID                                         0\n",
       "Gender                                     0\n",
       "DOB                                        0\n",
       "Lead_Creation_Date                         0\n",
       "City_Code                                814\n",
       "City_Category                            814\n",
       "Employer_Code                           4003\n",
       "Employer_Category1                      4003\n",
       "Employer_Category2                      4283\n",
       "Monthly_Income                             0\n",
       "Customer_Existing_Primary_Bank_Code     9376\n",
       "Primary_Bank_Type                       9376\n",
       "Contacted                                  0\n",
       "Source                                     0\n",
       "Source_Category                            0\n",
       "Existing_EMI                              51\n",
       "Loan_Amount                            27694\n",
       "Loan_Period                            27694\n",
       "Interest_Rate                          47422\n",
       "EMI                                    47422\n",
       "Var1                                       0\n",
       "Approved                                   0\n",
       "Age                                        0\n",
       "dtype: int64"
      ]
     },
     "execution_count": 1362,
     "metadata": {},
     "output_type": "execute_result"
    }
   ],
   "source": [
    "df.isnull().sum()"
   ]
  },
  {
   "cell_type": "code",
   "execution_count": 1363,
   "id": "a85b9e0b",
   "metadata": {},
   "outputs": [
    {
     "data": {
      "text/plain": [
       "0        C10001\n",
       "1        C10003\n",
       "2        C10125\n",
       "3        C10477\n",
       "4        C10002\n",
       "          ...  \n",
       "69708    C10006\n",
       "69709    C10116\n",
       "69710    C10022\n",
       "69711    C10002\n",
       "69712    C10003\n",
       "Name: City_Code, Length: 69698, dtype: object"
      ]
     },
     "execution_count": 1363,
     "metadata": {},
     "output_type": "execute_result"
    }
   ],
   "source": [
    "df['City_Code']"
   ]
  },
  {
   "cell_type": "code",
   "execution_count": 1364,
   "id": "33663419",
   "metadata": {},
   "outputs": [
    {
     "data": {
      "text/plain": [
       "C10001    10004\n",
       "C10002     8714\n",
       "C10003     8663\n",
       "C10004     5841\n",
       "C10005     5564\n",
       "          ...  \n",
       "C10582        1\n",
       "C10573        1\n",
       "C10644        1\n",
       "C10700        1\n",
       "C10686        1\n",
       "Name: City_Code, Length: 679, dtype: int64"
      ]
     },
     "execution_count": 1364,
     "metadata": {},
     "output_type": "execute_result"
    }
   ],
   "source": [
    "df['City_Code'].value_counts(dropna=False)"
   ]
  },
  {
   "cell_type": "code",
   "execution_count": 1365,
   "id": "8bb696d7",
   "metadata": {},
   "outputs": [
    {
     "data": {
      "text/plain": [
       "<AxesSubplot:xlabel='City_Category', ylabel='count'>"
      ]
     },
     "execution_count": 1365,
     "metadata": {},
     "output_type": "execute_result"
    },
    {
     "data": {
      "image/png": "[encoded data removed]",
      "text/plain": [
       "<Figure size 640x480 with 1 Axes>"
      ]
     },
     "metadata": {},
     "output_type": "display_data"
    }
   ],
   "source": [
    "sns.countplot(x=df['City_Category'],hue=df['Approved'])"
   ]
  },
  {
   "cell_type": "code",
   "execution_count": 1366,
   "id": "891c0173",
   "metadata": {},
   "outputs": [
    {
     "data": {
      "text/plain": [
       "A      33336\n",
       "B      18056\n",
       "C      14303\n",
       "NaN     4003\n",
       "Name: Employer_Category1, dtype: int64"
      ]
     },
     "execution_count": 1366,
     "metadata": {},
     "output_type": "execute_result"
    }
   ],
   "source": [
    "df['Employer_Category1'].value_counts(dropna=False)"
   ]
  },
  {
   "cell_type": "code",
   "execution_count": 1367,
   "id": "cd0a0552",
   "metadata": {},
   "outputs": [
    {
     "data": {
      "text/plain": [
       "4.0    57582\n",
       "NaN     4283\n",
       "1.0     4258\n",
       "2.0     1955\n",
       "3.0     1620\n",
       "Name: Employer_Category2, dtype: int64"
      ]
     },
     "execution_count": 1367,
     "metadata": {},
     "output_type": "execute_result"
    }
   ],
   "source": [
    "df['Employer_Category2'].value_counts(dropna=False)"
   ]
  },
  {
   "cell_type": "code",
   "execution_count": 1368,
   "id": "b1e4829d",
   "metadata": {},
   "outputs": [
    {
     "data": {
      "text/plain": [
       "A      49871\n",
       "C      11694\n",
       "B       7319\n",
       "NaN      814\n",
       "Name: City_Category, dtype: int64"
      ]
     },
     "execution_count": 1368,
     "metadata": {},
     "output_type": "execute_result"
    }
   ],
   "source": [
    "df['City_Category'].value_counts(dropna=False)"
   ]
  },
  {
   "cell_type": "code",
   "execution_count": 1369,
   "id": "552f1fd0",
   "metadata": {},
   "outputs": [],
   "source": [
    "df['City_Category'] = df['City_Category'].fillna(df['City_Category'].mode()[0])"
   ]
  },
  {
   "cell_type": "code",
   "execution_count": 1370,
   "id": "52ea469c",
   "metadata": {},
   "outputs": [
    {
     "data": {
      "text/plain": [
       "A      33336\n",
       "B      18056\n",
       "C      14303\n",
       "NaN     4003\n",
       "Name: Employer_Category1, dtype: int64"
      ]
     },
     "execution_count": 1370,
     "metadata": {},
     "output_type": "execute_result"
    }
   ],
   "source": [
    "df['Employer_Category1'].value_counts(dropna=False)"
   ]
  },
  {
   "cell_type": "code",
   "execution_count": 1371,
   "id": "fb3e3633",
   "metadata": {},
   "outputs": [],
   "source": [
    "df['Employer_Category1'] = df['Employer_Category1'].fillna(df['Employer_Category1'].mode()[0])"
   ]
  },
  {
   "cell_type": "code",
   "execution_count": 1372,
   "id": "db4adb79",
   "metadata": {},
   "outputs": [],
   "source": [
    "df['Employer_Category2'] = df['Employer_Category2'].fillna(df['Employer_Category2'].median())"
   ]
  },
  {
   "cell_type": "code",
   "execution_count": 1373,
   "id": "658396f2",
   "metadata": {},
   "outputs": [
    {
     "data": {
      "text/plain": [
       "4.0    61865\n",
       "1.0     4258\n",
       "2.0     1955\n",
       "3.0     1620\n",
       "Name: Employer_Category2, dtype: int64"
      ]
     },
     "execution_count": 1373,
     "metadata": {},
     "output_type": "execute_result"
    }
   ],
   "source": [
    "df['Employer_Category2'].value_counts(dropna=False)"
   ]
  },
  {
   "cell_type": "code",
   "execution_count": 1374,
   "id": "95507a75",
   "metadata": {},
   "outputs": [
    {
     "data": {
      "text/plain": [
       "ID                                         0\n",
       "Gender                                     0\n",
       "DOB                                        0\n",
       "Lead_Creation_Date                         0\n",
       "City_Code                                814\n",
       "City_Category                              0\n",
       "Employer_Code                           4003\n",
       "Employer_Category1                         0\n",
       "Employer_Category2                         0\n",
       "Monthly_Income                             0\n",
       "Customer_Existing_Primary_Bank_Code     9376\n",
       "Primary_Bank_Type                       9376\n",
       "Contacted                                  0\n",
       "Source                                     0\n",
       "Source_Category                            0\n",
       "Existing_EMI                              51\n",
       "Loan_Amount                            27694\n",
       "Loan_Period                            27694\n",
       "Interest_Rate                          47422\n",
       "EMI                                    47422\n",
       "Var1                                       0\n",
       "Approved                                   0\n",
       "Age                                        0\n",
       "dtype: int64"
      ]
     },
     "execution_count": 1374,
     "metadata": {},
     "output_type": "execute_result"
    }
   ],
   "source": [
    "df.isnull().sum()"
   ]
  },
  {
   "cell_type": "code",
   "execution_count": 1375,
   "id": "892ae1c7",
   "metadata": {},
   "outputs": [
    {
     "data": {
      "text/html": [
       "<div>\n",
       "<style scoped>\n",
       "    .dataframe tbody tr th:only-of-type {\n",
       "        vertical-align: middle;\n",
       "    }\n",
       "\n",
       "    .dataframe tbody tr th {\n",
       "        vertical-align: top;\n",
       "    }\n",
       "\n",
       "    .dataframe thead th {\n",
       "        text-align: right;\n",
       "    }\n",
       "</style>\n",
       "<table border=\"1\" class=\"dataframe\">\n",
       "  <thead>\n",
       "    <tr style=\"text-align: right;\">\n",
       "      <th></th>\n",
       "      <th>ID</th>\n",
       "      <th>Gender</th>\n",
       "      <th>DOB</th>\n",
       "      <th>Lead_Creation_Date</th>\n",
       "      <th>City_Code</th>\n",
       "      <th>City_Category</th>\n",
       "      <th>Employer_Code</th>\n",
       "      <th>Employer_Category1</th>\n",
       "      <th>Employer_Category2</th>\n",
       "      <th>Monthly_Income</th>\n",
       "      <th>...</th>\n",
       "      <th>Source</th>\n",
       "      <th>Source_Category</th>\n",
       "      <th>Existing_EMI</th>\n",
       "      <th>Loan_Amount</th>\n",
       "      <th>Loan_Period</th>\n",
       "      <th>Interest_Rate</th>\n",
       "      <th>EMI</th>\n",
       "      <th>Var1</th>\n",
       "      <th>Approved</th>\n",
       "      <th>Age</th>\n",
       "    </tr>\n",
       "  </thead>\n",
       "  <tbody>\n",
       "    <tr>\n",
       "      <th>1</th>\n",
       "      <td>APPD40611263344</td>\n",
       "      <td>Male</td>\n",
       "      <td>1986-12-07</td>\n",
       "      <td>04/07/16</td>\n",
       "      <td>C10003</td>\n",
       "      <td>A</td>\n",
       "      <td>COM0000002</td>\n",
       "      <td>C</td>\n",
       "      <td>1.0</td>\n",
       "      <td>3500.0</td>\n",
       "      <td>...</td>\n",
       "      <td>S122</td>\n",
       "      <td>G</td>\n",
       "      <td>0.0</td>\n",
       "      <td>20000.0</td>\n",
       "      <td>2.0</td>\n",
       "      <td>13.25</td>\n",
       "      <td>953.0</td>\n",
       "      <td>10</td>\n",
       "      <td>0</td>\n",
       "      <td>37.0</td>\n",
       "    </tr>\n",
       "    <tr>\n",
       "      <th>187</th>\n",
       "      <td>APPB40237575507</td>\n",
       "      <td>Male</td>\n",
       "      <td>1988-02-18</td>\n",
       "      <td>01/07/16</td>\n",
       "      <td>C10003</td>\n",
       "      <td>A</td>\n",
       "      <td>COM0000002</td>\n",
       "      <td>C</td>\n",
       "      <td>1.0</td>\n",
       "      <td>5000.0</td>\n",
       "      <td>...</td>\n",
       "      <td>S122</td>\n",
       "      <td>F</td>\n",
       "      <td>0.0</td>\n",
       "      <td>88000.0</td>\n",
       "      <td>5.0</td>\n",
       "      <td>NaN</td>\n",
       "      <td>NaN</td>\n",
       "      <td>10</td>\n",
       "      <td>0</td>\n",
       "      <td>35.0</td>\n",
       "    </tr>\n",
       "    <tr>\n",
       "      <th>212</th>\n",
       "      <td>APPJ10292946942</td>\n",
       "      <td>Female</td>\n",
       "      <td>1989-08-24</td>\n",
       "      <td>01/07/16</td>\n",
       "      <td>C10003</td>\n",
       "      <td>A</td>\n",
       "      <td>COM0000002</td>\n",
       "      <td>C</td>\n",
       "      <td>1.0</td>\n",
       "      <td>2500.0</td>\n",
       "      <td>...</td>\n",
       "      <td>S143</td>\n",
       "      <td>B</td>\n",
       "      <td>0.0</td>\n",
       "      <td>30000.0</td>\n",
       "      <td>5.0</td>\n",
       "      <td>13.00</td>\n",
       "      <td>683.0</td>\n",
       "      <td>10</td>\n",
       "      <td>0</td>\n",
       "      <td>34.0</td>\n",
       "    </tr>\n",
       "    <tr>\n",
       "      <th>480</th>\n",
       "      <td>APPR70032524536</td>\n",
       "      <td>Female</td>\n",
       "      <td>1984-07-04</td>\n",
       "      <td>01/07/16</td>\n",
       "      <td>C10003</td>\n",
       "      <td>A</td>\n",
       "      <td>COM0000002</td>\n",
       "      <td>C</td>\n",
       "      <td>1.0</td>\n",
       "      <td>4880.0</td>\n",
       "      <td>...</td>\n",
       "      <td>S143</td>\n",
       "      <td>B</td>\n",
       "      <td>2489.7</td>\n",
       "      <td>NaN</td>\n",
       "      <td>NaN</td>\n",
       "      <td>NaN</td>\n",
       "      <td>NaN</td>\n",
       "      <td>0</td>\n",
       "      <td>0</td>\n",
       "      <td>39.0</td>\n",
       "    </tr>\n",
       "    <tr>\n",
       "      <th>483</th>\n",
       "      <td>APPW10669212041</td>\n",
       "      <td>Female</td>\n",
       "      <td>1984-07-04</td>\n",
       "      <td>01/07/16</td>\n",
       "      <td>C10003</td>\n",
       "      <td>A</td>\n",
       "      <td>COM0000002</td>\n",
       "      <td>C</td>\n",
       "      <td>1.0</td>\n",
       "      <td>4880.0</td>\n",
       "      <td>...</td>\n",
       "      <td>S133</td>\n",
       "      <td>E</td>\n",
       "      <td>2215.7</td>\n",
       "      <td>NaN</td>\n",
       "      <td>NaN</td>\n",
       "      <td>NaN</td>\n",
       "      <td>NaN</td>\n",
       "      <td>0</td>\n",
       "      <td>0</td>\n",
       "      <td>39.0</td>\n",
       "    </tr>\n",
       "    <tr>\n",
       "      <th>...</th>\n",
       "      <td>...</td>\n",
       "      <td>...</td>\n",
       "      <td>...</td>\n",
       "      <td>...</td>\n",
       "      <td>...</td>\n",
       "      <td>...</td>\n",
       "      <td>...</td>\n",
       "      <td>...</td>\n",
       "      <td>...</td>\n",
       "      <td>...</td>\n",
       "      <td>...</td>\n",
       "      <td>...</td>\n",
       "      <td>...</td>\n",
       "      <td>...</td>\n",
       "      <td>...</td>\n",
       "      <td>...</td>\n",
       "      <td>...</td>\n",
       "      <td>...</td>\n",
       "      <td>...</td>\n",
       "      <td>...</td>\n",
       "      <td>...</td>\n",
       "    </tr>\n",
       "    <tr>\n",
       "      <th>69320</th>\n",
       "      <td>APPC50556447049</td>\n",
       "      <td>Male</td>\n",
       "      <td>1983-11-01</td>\n",
       "      <td>30/09/16</td>\n",
       "      <td>C10003</td>\n",
       "      <td>A</td>\n",
       "      <td>COM0000002</td>\n",
       "      <td>C</td>\n",
       "      <td>1.0</td>\n",
       "      <td>6000.0</td>\n",
       "      <td>...</td>\n",
       "      <td>S122</td>\n",
       "      <td>G</td>\n",
       "      <td>0.0</td>\n",
       "      <td>104000.0</td>\n",
       "      <td>4.0</td>\n",
       "      <td>NaN</td>\n",
       "      <td>NaN</td>\n",
       "      <td>7</td>\n",
       "      <td>0</td>\n",
       "      <td>40.0</td>\n",
       "    </tr>\n",
       "    <tr>\n",
       "      <th>69388</th>\n",
       "      <td>APPC10799454801</td>\n",
       "      <td>Male</td>\n",
       "      <td>1986-07-20</td>\n",
       "      <td>30/09/16</td>\n",
       "      <td>C10004</td>\n",
       "      <td>A</td>\n",
       "      <td>COM0000002</td>\n",
       "      <td>C</td>\n",
       "      <td>1.0</td>\n",
       "      <td>7800.0</td>\n",
       "      <td>...</td>\n",
       "      <td>S122</td>\n",
       "      <td>G</td>\n",
       "      <td>1000.0</td>\n",
       "      <td>100000.0</td>\n",
       "      <td>5.0</td>\n",
       "      <td>NaN</td>\n",
       "      <td>NaN</td>\n",
       "      <td>10</td>\n",
       "      <td>0</td>\n",
       "      <td>37.0</td>\n",
       "    </tr>\n",
       "    <tr>\n",
       "      <th>69411</th>\n",
       "      <td>APPG50185673801</td>\n",
       "      <td>Male</td>\n",
       "      <td>1989-07-25</td>\n",
       "      <td>30/09/16</td>\n",
       "      <td>C10005</td>\n",
       "      <td>A</td>\n",
       "      <td>COM0000002</td>\n",
       "      <td>C</td>\n",
       "      <td>1.0</td>\n",
       "      <td>3200.0</td>\n",
       "      <td>...</td>\n",
       "      <td>S122</td>\n",
       "      <td>G</td>\n",
       "      <td>850.0</td>\n",
       "      <td>50000.0</td>\n",
       "      <td>5.0</td>\n",
       "      <td>NaN</td>\n",
       "      <td>NaN</td>\n",
       "      <td>10</td>\n",
       "      <td>0</td>\n",
       "      <td>34.0</td>\n",
       "    </tr>\n",
       "    <tr>\n",
       "      <th>69508</th>\n",
       "      <td>APPK70535978202</td>\n",
       "      <td>Male</td>\n",
       "      <td>1991-02-12</td>\n",
       "      <td>30/09/16</td>\n",
       "      <td>C10007</td>\n",
       "      <td>A</td>\n",
       "      <td>COM0000002</td>\n",
       "      <td>C</td>\n",
       "      <td>1.0</td>\n",
       "      <td>3400.0</td>\n",
       "      <td>...</td>\n",
       "      <td>S122</td>\n",
       "      <td>G</td>\n",
       "      <td>0.0</td>\n",
       "      <td>62000.0</td>\n",
       "      <td>4.0</td>\n",
       "      <td>NaN</td>\n",
       "      <td>NaN</td>\n",
       "      <td>4</td>\n",
       "      <td>0</td>\n",
       "      <td>32.0</td>\n",
       "    </tr>\n",
       "    <tr>\n",
       "      <th>69622</th>\n",
       "      <td>APPU80663809227</td>\n",
       "      <td>Male</td>\n",
       "      <td>1991-12-02</td>\n",
       "      <td>30/09/16</td>\n",
       "      <td>C10006</td>\n",
       "      <td>A</td>\n",
       "      <td>COM0000002</td>\n",
       "      <td>C</td>\n",
       "      <td>1.0</td>\n",
       "      <td>2500.0</td>\n",
       "      <td>...</td>\n",
       "      <td>S122</td>\n",
       "      <td>G</td>\n",
       "      <td>0.0</td>\n",
       "      <td>42000.0</td>\n",
       "      <td>4.0</td>\n",
       "      <td>13.00</td>\n",
       "      <td>1127.0</td>\n",
       "      <td>7</td>\n",
       "      <td>0</td>\n",
       "      <td>32.0</td>\n",
       "    </tr>\n",
       "  </tbody>\n",
       "</table>\n",
       "<p>457 rows × 23 columns</p>\n",
       "</div>"
      ],
      "text/plain": [
       "                    ID  Gender        DOB Lead_Creation_Date City_Code  \\\n",
       "1      APPD40611263344    Male 1986-12-07           04/07/16    C10003   \n",
       "187    APPB40237575507    Male 1988-02-18           01/07/16    C10003   \n",
       "212    APPJ10292946942  Female 1989-08-24           01/07/16    C10003   \n",
       "480    APPR70032524536  Female 1984-07-04           01/07/16    C10003   \n",
       "483    APPW10669212041  Female 1984-07-04           01/07/16    C10003   \n",
       "...                ...     ...        ...                ...       ...   \n",
       "69320  APPC50556447049    Male 1983-11-01           30/09/16    C10003   \n",
       "69388  APPC10799454801    Male 1986-07-20           30/09/16    C10004   \n",
       "69411  APPG50185673801    Male 1989-07-25           30/09/16    C10005   \n",
       "69508  APPK70535978202    Male 1991-02-12           30/09/16    C10007   \n",
       "69622  APPU80663809227    Male 1991-12-02           30/09/16    C10006   \n",
       "\n",
       "      City_Category Employer_Code Employer_Category1  Employer_Category2  \\\n",
       "1                 A    COM0000002                  C                 1.0   \n",
       "187               A    COM0000002                  C                 1.0   \n",
       "212               A    COM0000002                  C                 1.0   \n",
       "480               A    COM0000002                  C                 1.0   \n",
       "483               A    COM0000002                  C                 1.0   \n",
       "...             ...           ...                ...                 ...   \n",
       "69320             A    COM0000002                  C                 1.0   \n",
       "69388             A    COM0000002                  C                 1.0   \n",
       "69411             A    COM0000002                  C                 1.0   \n",
       "69508             A    COM0000002                  C                 1.0   \n",
       "69622             A    COM0000002                  C                 1.0   \n",
       "\n",
       "       Monthly_Income  ... Source Source_Category Existing_EMI Loan_Amount  \\\n",
       "1              3500.0  ...   S122               G          0.0     20000.0   \n",
       "187            5000.0  ...   S122               F          0.0     88000.0   \n",
       "212            2500.0  ...   S143               B          0.0     30000.0   \n",
       "480            4880.0  ...   S143               B       2489.7         NaN   \n",
       "483            4880.0  ...   S133               E       2215.7         NaN   \n",
       "...               ...  ...    ...             ...          ...         ...   \n",
       "69320          6000.0  ...   S122               G          0.0    104000.0   \n",
       "69388          7800.0  ...   S122               G       1000.0    100000.0   \n",
       "69411          3200.0  ...   S122               G        850.0     50000.0   \n",
       "69508          3400.0  ...   S122               G          0.0     62000.0   \n",
       "69622          2500.0  ...   S122               G          0.0     42000.0   \n",
       "\n",
       "      Loan_Period  Interest_Rate     EMI  Var1  Approved   Age  \n",
       "1             2.0          13.25   953.0    10         0  37.0  \n",
       "187           5.0            NaN     NaN    10         0  35.0  \n",
       "212           5.0          13.00   683.0    10         0  34.0  \n",
       "480           NaN            NaN     NaN     0         0  39.0  \n",
       "483           NaN            NaN     NaN     0         0  39.0  \n",
       "...           ...            ...     ...   ...       ...   ...  \n",
       "69320         4.0            NaN     NaN     7         0  40.0  \n",
       "69388         5.0            NaN     NaN    10         0  37.0  \n",
       "69411         5.0            NaN     NaN    10         0  34.0  \n",
       "69508         4.0            NaN     NaN     4         0  32.0  \n",
       "69622         4.0          13.00  1127.0     7         0  32.0  \n",
       "\n",
       "[457 rows x 23 columns]"
      ]
     },
     "execution_count": 1375,
     "metadata": {},
     "output_type": "execute_result"
    }
   ],
   "source": [
    "df[df['Employer_Code']=='COM0000002']"
   ]
  },
  {
   "cell_type": "code",
   "execution_count": 1376,
   "id": "7bc8f073",
   "metadata": {},
   "outputs": [
    {
     "data": {
      "text/html": [
       "<div>\n",
       "<style scoped>\n",
       "    .dataframe tbody tr th:only-of-type {\n",
       "        vertical-align: middle;\n",
       "    }\n",
       "\n",
       "    .dataframe tbody tr th {\n",
       "        vertical-align: top;\n",
       "    }\n",
       "\n",
       "    .dataframe thead th {\n",
       "        text-align: right;\n",
       "    }\n",
       "</style>\n",
       "<table border=\"1\" class=\"dataframe\">\n",
       "  <thead>\n",
       "    <tr style=\"text-align: right;\">\n",
       "      <th></th>\n",
       "      <th></th>\n",
       "      <th>Loan_Amount</th>\n",
       "    </tr>\n",
       "    <tr>\n",
       "      <th>Employer_Category1</th>\n",
       "      <th>Approved</th>\n",
       "      <th></th>\n",
       "    </tr>\n",
       "  </thead>\n",
       "  <tbody>\n",
       "    <tr>\n",
       "      <th rowspan=\"2\" valign=\"top\">A</th>\n",
       "      <th>0</th>\n",
       "      <td>39022.196955</td>\n",
       "    </tr>\n",
       "    <tr>\n",
       "      <th>1</th>\n",
       "      <td>47169.435216</td>\n",
       "    </tr>\n",
       "    <tr>\n",
       "      <th rowspan=\"2\" valign=\"top\">B</th>\n",
       "      <th>0</th>\n",
       "      <td>38726.908998</td>\n",
       "    </tr>\n",
       "    <tr>\n",
       "      <th>1</th>\n",
       "      <td>49641.638225</td>\n",
       "    </tr>\n",
       "    <tr>\n",
       "      <th rowspan=\"2\" valign=\"top\">C</th>\n",
       "      <th>0</th>\n",
       "      <td>40309.886760</td>\n",
       "    </tr>\n",
       "    <tr>\n",
       "      <th>1</th>\n",
       "      <td>51800.796813</td>\n",
       "    </tr>\n",
       "  </tbody>\n",
       "</table>\n",
       "</div>"
      ],
      "text/plain": [
       "                              Loan_Amount\n",
       "Employer_Category1 Approved              \n",
       "A                  0         39022.196955\n",
       "                   1         47169.435216\n",
       "B                  0         38726.908998\n",
       "                   1         49641.638225\n",
       "C                  0         40309.886760\n",
       "                   1         51800.796813"
      ]
     },
     "execution_count": 1376,
     "metadata": {},
     "output_type": "execute_result"
    }
   ],
   "source": [
    "df.groupby(['Employer_Category1','Approved'])[['Loan_Amount']].mean()"
   ]
  },
  {
   "cell_type": "code",
   "execution_count": 1377,
   "id": "9058edb2",
   "metadata": {},
   "outputs": [
    {
     "data": {
      "text/html": [
       "<div>\n",
       "<style scoped>\n",
       "    .dataframe tbody tr th:only-of-type {\n",
       "        vertical-align: middle;\n",
       "    }\n",
       "\n",
       "    .dataframe tbody tr th {\n",
       "        vertical-align: top;\n",
       "    }\n",
       "\n",
       "    .dataframe thead th {\n",
       "        text-align: right;\n",
       "    }\n",
       "</style>\n",
       "<table border=\"1\" class=\"dataframe\">\n",
       "  <thead>\n",
       "    <tr style=\"text-align: right;\">\n",
       "      <th></th>\n",
       "      <th></th>\n",
       "      <th>Loan_Amount</th>\n",
       "    </tr>\n",
       "    <tr>\n",
       "      <th>Employer_Category2</th>\n",
       "      <th>Approved</th>\n",
       "      <th></th>\n",
       "    </tr>\n",
       "  </thead>\n",
       "  <tbody>\n",
       "    <tr>\n",
       "      <th rowspan=\"2\" valign=\"top\">1.0</th>\n",
       "      <th>0</th>\n",
       "      <td>45435.004791</td>\n",
       "    </tr>\n",
       "    <tr>\n",
       "      <th>1</th>\n",
       "      <td>59323.529412</td>\n",
       "    </tr>\n",
       "    <tr>\n",
       "      <th rowspan=\"2\" valign=\"top\">2.0</th>\n",
       "      <th>0</th>\n",
       "      <td>43114.606742</td>\n",
       "    </tr>\n",
       "    <tr>\n",
       "      <th>1</th>\n",
       "      <td>55250.000000</td>\n",
       "    </tr>\n",
       "    <tr>\n",
       "      <th rowspan=\"2\" valign=\"top\">3.0</th>\n",
       "      <th>0</th>\n",
       "      <td>34856.716418</td>\n",
       "    </tr>\n",
       "    <tr>\n",
       "      <th>1</th>\n",
       "      <td>35000.000000</td>\n",
       "    </tr>\n",
       "    <tr>\n",
       "      <th rowspan=\"2\" valign=\"top\">4.0</th>\n",
       "      <th>0</th>\n",
       "      <td>38657.980273</td>\n",
       "    </tr>\n",
       "    <tr>\n",
       "      <th>1</th>\n",
       "      <td>48613.861386</td>\n",
       "    </tr>\n",
       "  </tbody>\n",
       "</table>\n",
       "</div>"
      ],
      "text/plain": [
       "                              Loan_Amount\n",
       "Employer_Category2 Approved              \n",
       "1.0                0         45435.004791\n",
       "                   1         59323.529412\n",
       "2.0                0         43114.606742\n",
       "                   1         55250.000000\n",
       "3.0                0         34856.716418\n",
       "                   1         35000.000000\n",
       "4.0                0         38657.980273\n",
       "                   1         48613.861386"
      ]
     },
     "execution_count": 1377,
     "metadata": {},
     "output_type": "execute_result"
    }
   ],
   "source": [
    "df.groupby(['Employer_Category2','Approved'])[['Loan_Amount']].mean()"
   ]
  },
  {
   "cell_type": "code",
   "execution_count": 1378,
   "id": "8568ed4c",
   "metadata": {},
   "outputs": [
    {
     "data": {
      "text/plain": [
       "ID                                         0\n",
       "Gender                                     0\n",
       "DOB                                        0\n",
       "Lead_Creation_Date                         0\n",
       "City_Code                                814\n",
       "City_Category                              0\n",
       "Employer_Code                           4003\n",
       "Employer_Category1                         0\n",
       "Employer_Category2                         0\n",
       "Monthly_Income                             0\n",
       "Customer_Existing_Primary_Bank_Code     9376\n",
       "Primary_Bank_Type                       9376\n",
       "Contacted                                  0\n",
       "Source                                     0\n",
       "Source_Category                            0\n",
       "Existing_EMI                              51\n",
       "Loan_Amount                            27694\n",
       "Loan_Period                            27694\n",
       "Interest_Rate                          47422\n",
       "EMI                                    47422\n",
       "Var1                                       0\n",
       "Approved                                   0\n",
       "Age                                        0\n",
       "dtype: int64"
      ]
     },
     "execution_count": 1378,
     "metadata": {},
     "output_type": "execute_result"
    }
   ],
   "source": [
    "df.isnull().sum()"
   ]
  },
  {
   "cell_type": "code",
   "execution_count": 1379,
   "id": "f67a522b",
   "metadata": {},
   "outputs": [
    {
     "data": {
      "text/plain": [
       "B001    14197\n",
       "B002    10880\n",
       "B003     9515\n",
       "NaN      9376\n",
       "B004     7070\n",
       "B005     1920\n",
       "B006     1662\n",
       "B007     1239\n",
       "B008      945\n",
       "B009      941\n",
       "B010      920\n",
       "B012      789\n",
       "B013      785\n",
       "B011      775\n",
       "B014      606\n",
       "B015      561\n",
       "B016      518\n",
       "B017      495\n",
       "B018      475\n",
       "B019      445\n",
       "B020      420\n",
       "B021      401\n",
       "B022      388\n",
       "B023      355\n",
       "B024      335\n",
       "B025      327\n",
       "B027      268\n",
       "B026      262\n",
       "B028      258\n",
       "B029      206\n",
       "B030      202\n",
       "B031      201\n",
       "B033      188\n",
       "B032      187\n",
       "B034      184\n",
       "B035      161\n",
       "B038      149\n",
       "B036      145\n",
       "B039      137\n",
       "B037      137\n",
       "B040      133\n",
       "B041       98\n",
       "B042       80\n",
       "B043       70\n",
       "B044       60\n",
       "B046       48\n",
       "B045       47\n",
       "B047       39\n",
       "B048       34\n",
       "B049       15\n",
       "B050       12\n",
       "B054        8\n",
       "B051        8\n",
       "B052        7\n",
       "B053        5\n",
       "B055        4\n",
       "B056        4\n",
       "B057        1\n",
       "Name: Customer_Existing_Primary_Bank_Code, dtype: int64"
      ]
     },
     "execution_count": 1379,
     "metadata": {},
     "output_type": "execute_result"
    }
   ],
   "source": [
    "df['Customer_Existing_Primary_Bank_Code'].value_counts(dropna=False)"
   ]
  },
  {
   "cell_type": "code",
   "execution_count": 1380,
   "id": "61567dfd",
   "metadata": {},
   "outputs": [
    {
     "data": {
      "text/plain": [
       "P      39619\n",
       "G      20703\n",
       "NaN     9376\n",
       "Name: Primary_Bank_Type, dtype: int64"
      ]
     },
     "execution_count": 1380,
     "metadata": {},
     "output_type": "execute_result"
    }
   ],
   "source": [
    "df['Primary_Bank_Type'].value_counts(dropna=False)"
   ]
  },
  {
   "cell_type": "code",
   "execution_count": 1381,
   "id": "4db05d25",
   "metadata": {},
   "outputs": [],
   "source": [
    "from sklearn.impute import SimpleImputer"
   ]
  },
  {
   "cell_type": "code",
   "execution_count": 1382,
   "id": "b94cc5b0",
   "metadata": {},
   "outputs": [],
   "source": [
    "imputer = SimpleImputer(strategy='most_frequent',missing_values=np.nan)"
   ]
  },
  {
   "cell_type": "code",
   "execution_count": 1383,
   "id": "a561b3d1",
   "metadata": {},
   "outputs": [],
   "source": [
    "df['Primary_Bank_Type']= imputer.fit_transform(df[['Primary_Bank_Type']])"
   ]
  },
  {
   "cell_type": "code",
   "execution_count": 1384,
   "id": "1d0d9ff8",
   "metadata": {},
   "outputs": [
    {
     "data": {
      "text/plain": [
       "P    48995\n",
       "G    20703\n",
       "Name: Primary_Bank_Type, dtype: int64"
      ]
     },
     "execution_count": 1384,
     "metadata": {},
     "output_type": "execute_result"
    }
   ],
   "source": [
    "df['Primary_Bank_Type'].value_counts(dropna=False)"
   ]
  },
  {
   "cell_type": "code",
   "execution_count": 1385,
   "id": "7d5c406d",
   "metadata": {},
   "outputs": [
    {
     "data": {
      "text/plain": [
       "0.0       46606\n",
       "500.0      2141\n",
       "1000.0     1410\n",
       "300.0      1260\n",
       "400.0       967\n",
       "          ...  \n",
       "873.1         1\n",
       "88.4          1\n",
       "2044.5        1\n",
       "6350.0        1\n",
       "2364.8        1\n",
       "Name: Existing_EMI, Length: 3246, dtype: int64"
      ]
     },
     "execution_count": 1385,
     "metadata": {},
     "output_type": "execute_result"
    }
   ],
   "source": [
    "df['Existing_EMI'].value_counts(dropna=False)"
   ]
  },
  {
   "cell_type": "code",
   "execution_count": 1386,
   "id": "f355b700",
   "metadata": {},
   "outputs": [],
   "source": [
    "df['Existing_EMI'] = df['Existing_EMI'].fillna(df['Existing_EMI'].median())"
   ]
  },
  {
   "cell_type": "code",
   "execution_count": 1387,
   "id": "fec92569",
   "metadata": {},
   "outputs": [
    {
     "data": {
      "text/plain": [
       "0.0       46657\n",
       "500.0      2141\n",
       "1000.0     1410\n",
       "300.0      1260\n",
       "400.0       967\n",
       "          ...  \n",
       "873.1         1\n",
       "88.4          1\n",
       "2044.5        1\n",
       "6350.0        1\n",
       "2364.8        1\n",
       "Name: Existing_EMI, Length: 3245, dtype: int64"
      ]
     },
     "execution_count": 1387,
     "metadata": {},
     "output_type": "execute_result"
    }
   ],
   "source": [
    "df['Existing_EMI'].value_counts(dropna=False)"
   ]
  },
  {
   "cell_type": "code",
   "execution_count": 1388,
   "id": "aff5098d",
   "metadata": {},
   "outputs": [
    {
     "data": {
      "text/plain": [
       "<AxesSubplot:>"
      ]
     },
     "execution_count": 1388,
     "metadata": {},
     "output_type": "execute_result"
    },
    {
     "data": {
      "image/png": "[encoded data removed]",
      "text/plain": [
       "<Figure size 1600x800 with 2 Axes>"
      ]
     },
     "metadata": {},
     "output_type": "display_data"
    }
   ],
   "source": [
    "plt.figure(figsize=(16,8))\n",
    "sns.heatmap(df.corr(),cmap='coolwarm',annot=True)"
   ]
  },
  {
   "cell_type": "code",
   "execution_count": 1389,
   "id": "9b273d0a",
   "metadata": {},
   "outputs": [
    {
     "data": {
      "text/plain": [
       "<AxesSubplot:xlabel='Loan_Amount', ylabel='EMI'>"
      ]
     },
     "execution_count": 1389,
     "metadata": {},
     "output_type": "execute_result"
    },
    {
     "data": {
      "image/png": "[encoded data removed]",
      "text/plain": [
       "<Figure size 640x480 with 1 Axes>"
      ]
     },
     "metadata": {},
     "output_type": "display_data"
    }
   ],
   "source": [
    "sns.scatterplot(x='Loan_Amount',y='EMI',data=df,hue=df['Approved'])"
   ]
  },
  {
   "cell_type": "code",
   "execution_count": 1390,
   "id": "dde121e4",
   "metadata": {},
   "outputs": [
    {
     "data": {
      "text/plain": [
       "ID                                         0\n",
       "Gender                                     0\n",
       "DOB                                        0\n",
       "Lead_Creation_Date                         0\n",
       "City_Code                                814\n",
       "City_Category                              0\n",
       "Employer_Code                           4003\n",
       "Employer_Category1                         0\n",
       "Employer_Category2                         0\n",
       "Monthly_Income                             0\n",
       "Customer_Existing_Primary_Bank_Code     9376\n",
       "Primary_Bank_Type                          0\n",
       "Contacted                                  0\n",
       "Source                                     0\n",
       "Source_Category                            0\n",
       "Existing_EMI                               0\n",
       "Loan_Amount                            27694\n",
       "Loan_Period                            27694\n",
       "Interest_Rate                          47422\n",
       "EMI                                    47422\n",
       "Var1                                       0\n",
       "Approved                                   0\n",
       "Age                                        0\n",
       "dtype: int64"
      ]
     },
     "execution_count": 1390,
     "metadata": {},
     "output_type": "execute_result"
    }
   ],
   "source": [
    "df.isnull().sum()"
   ]
  },
  {
   "cell_type": "code",
   "execution_count": 1391,
   "id": "f39f31ed",
   "metadata": {},
   "outputs": [
    {
     "data": {
      "text/html": [
       "<div>\n",
       "<style scoped>\n",
       "    .dataframe tbody tr th:only-of-type {\n",
       "        vertical-align: middle;\n",
       "    }\n",
       "\n",
       "    .dataframe tbody tr th {\n",
       "        vertical-align: top;\n",
       "    }\n",
       "\n",
       "    .dataframe thead th {\n",
       "        text-align: right;\n",
       "    }\n",
       "</style>\n",
       "<table border=\"1\" class=\"dataframe\">\n",
       "  <thead>\n",
       "    <tr style=\"text-align: right;\">\n",
       "      <th></th>\n",
       "      <th>ID</th>\n",
       "      <th>Gender</th>\n",
       "      <th>DOB</th>\n",
       "      <th>Lead_Creation_Date</th>\n",
       "      <th>City_Code</th>\n",
       "      <th>City_Category</th>\n",
       "      <th>Employer_Code</th>\n",
       "      <th>Employer_Category1</th>\n",
       "      <th>Employer_Category2</th>\n",
       "      <th>Monthly_Income</th>\n",
       "      <th>...</th>\n",
       "      <th>Source</th>\n",
       "      <th>Source_Category</th>\n",
       "      <th>Existing_EMI</th>\n",
       "      <th>Loan_Amount</th>\n",
       "      <th>Loan_Period</th>\n",
       "      <th>Interest_Rate</th>\n",
       "      <th>EMI</th>\n",
       "      <th>Var1</th>\n",
       "      <th>Approved</th>\n",
       "      <th>Age</th>\n",
       "    </tr>\n",
       "  </thead>\n",
       "  <tbody>\n",
       "    <tr>\n",
       "      <th>0</th>\n",
       "      <td>APPC90493171225</td>\n",
       "      <td>Female</td>\n",
       "      <td>1979-07-23</td>\n",
       "      <td>15/07/16</td>\n",
       "      <td>C10001</td>\n",
       "      <td>A</td>\n",
       "      <td>COM0044082</td>\n",
       "      <td>A</td>\n",
       "      <td>4.0</td>\n",
       "      <td>2000.0</td>\n",
       "      <td>...</td>\n",
       "      <td>S122</td>\n",
       "      <td>G</td>\n",
       "      <td>0.0</td>\n",
       "      <td>NaN</td>\n",
       "      <td>NaN</td>\n",
       "      <td>NaN</td>\n",
       "      <td>NaN</td>\n",
       "      <td>0</td>\n",
       "      <td>0</td>\n",
       "      <td>44.0</td>\n",
       "    </tr>\n",
       "    <tr>\n",
       "      <th>1</th>\n",
       "      <td>APPD40611263344</td>\n",
       "      <td>Male</td>\n",
       "      <td>1986-12-07</td>\n",
       "      <td>04/07/16</td>\n",
       "      <td>C10003</td>\n",
       "      <td>A</td>\n",
       "      <td>COM0000002</td>\n",
       "      <td>C</td>\n",
       "      <td>1.0</td>\n",
       "      <td>3500.0</td>\n",
       "      <td>...</td>\n",
       "      <td>S122</td>\n",
       "      <td>G</td>\n",
       "      <td>0.0</td>\n",
       "      <td>20000.0</td>\n",
       "      <td>2.0</td>\n",
       "      <td>13.25</td>\n",
       "      <td>953.0</td>\n",
       "      <td>10</td>\n",
       "      <td>0</td>\n",
       "      <td>37.0</td>\n",
       "    </tr>\n",
       "    <tr>\n",
       "      <th>2</th>\n",
       "      <td>APPE70289249423</td>\n",
       "      <td>Male</td>\n",
       "      <td>1982-12-10</td>\n",
       "      <td>19/07/16</td>\n",
       "      <td>C10125</td>\n",
       "      <td>C</td>\n",
       "      <td>COM0005267</td>\n",
       "      <td>C</td>\n",
       "      <td>4.0</td>\n",
       "      <td>2250.0</td>\n",
       "      <td>...</td>\n",
       "      <td>S143</td>\n",
       "      <td>B</td>\n",
       "      <td>0.0</td>\n",
       "      <td>45000.0</td>\n",
       "      <td>4.0</td>\n",
       "      <td>NaN</td>\n",
       "      <td>NaN</td>\n",
       "      <td>0</td>\n",
       "      <td>0</td>\n",
       "      <td>41.0</td>\n",
       "    </tr>\n",
       "    <tr>\n",
       "      <th>3</th>\n",
       "      <td>APPF80273865537</td>\n",
       "      <td>Male</td>\n",
       "      <td>1989-01-30</td>\n",
       "      <td>09/07/16</td>\n",
       "      <td>C10477</td>\n",
       "      <td>C</td>\n",
       "      <td>COM0004143</td>\n",
       "      <td>A</td>\n",
       "      <td>4.0</td>\n",
       "      <td>3500.0</td>\n",
       "      <td>...</td>\n",
       "      <td>S143</td>\n",
       "      <td>B</td>\n",
       "      <td>0.0</td>\n",
       "      <td>92000.0</td>\n",
       "      <td>5.0</td>\n",
       "      <td>NaN</td>\n",
       "      <td>NaN</td>\n",
       "      <td>7</td>\n",
       "      <td>0</td>\n",
       "      <td>34.0</td>\n",
       "    </tr>\n",
       "    <tr>\n",
       "      <th>4</th>\n",
       "      <td>APPG60994436641</td>\n",
       "      <td>Male</td>\n",
       "      <td>1985-04-19</td>\n",
       "      <td>20/07/16</td>\n",
       "      <td>C10002</td>\n",
       "      <td>A</td>\n",
       "      <td>COM0001781</td>\n",
       "      <td>A</td>\n",
       "      <td>4.0</td>\n",
       "      <td>10000.0</td>\n",
       "      <td>...</td>\n",
       "      <td>S134</td>\n",
       "      <td>B</td>\n",
       "      <td>2500.0</td>\n",
       "      <td>50000.0</td>\n",
       "      <td>2.0</td>\n",
       "      <td>NaN</td>\n",
       "      <td>NaN</td>\n",
       "      <td>10</td>\n",
       "      <td>0</td>\n",
       "      <td>38.0</td>\n",
       "    </tr>\n",
       "  </tbody>\n",
       "</table>\n",
       "<p>5 rows × 23 columns</p>\n",
       "</div>"
      ],
      "text/plain": [
       "                ID  Gender        DOB Lead_Creation_Date City_Code  \\\n",
       "0  APPC90493171225  Female 1979-07-23           15/07/16    C10001   \n",
       "1  APPD40611263344    Male 1986-12-07           04/07/16    C10003   \n",
       "2  APPE70289249423    Male 1982-12-10           19/07/16    C10125   \n",
       "3  APPF80273865537    Male 1989-01-30           09/07/16    C10477   \n",
       "4  APPG60994436641    Male 1985-04-19           20/07/16    C10002   \n",
       "\n",
       "  City_Category Employer_Code Employer_Category1  Employer_Category2  \\\n",
       "0             A    COM0044082                  A                 4.0   \n",
       "1             A    COM0000002                  C                 1.0   \n",
       "2             C    COM0005267                  C                 4.0   \n",
       "3             C    COM0004143                  A                 4.0   \n",
       "4             A    COM0001781                  A                 4.0   \n",
       "\n",
       "   Monthly_Income  ... Source Source_Category Existing_EMI Loan_Amount  \\\n",
       "0          2000.0  ...   S122               G          0.0         NaN   \n",
       "1          3500.0  ...   S122               G          0.0     20000.0   \n",
       "2          2250.0  ...   S143               B          0.0     45000.0   \n",
       "3          3500.0  ...   S143               B          0.0     92000.0   \n",
       "4         10000.0  ...   S134               B       2500.0     50000.0   \n",
       "\n",
       "  Loan_Period  Interest_Rate    EMI  Var1  Approved   Age  \n",
       "0         NaN            NaN    NaN     0         0  44.0  \n",
       "1         2.0          13.25  953.0    10         0  37.0  \n",
       "2         4.0            NaN    NaN     0         0  41.0  \n",
       "3         5.0            NaN    NaN     7         0  34.0  \n",
       "4         2.0            NaN    NaN    10         0  38.0  \n",
       "\n",
       "[5 rows x 23 columns]"
      ]
     },
     "execution_count": 1391,
     "metadata": {},
     "output_type": "execute_result"
    }
   ],
   "source": [
    "df.head()"
   ]
  },
  {
   "cell_type": "code",
   "execution_count": 1242,
   "id": "25f164ec",
   "metadata": {},
   "outputs": [],
   "source": [
    "df['Loan_Amount'] = df['Loan_Amount'].fillna(df['Loan_Amount'].median())"
   ]
  },
  {
   "cell_type": "code",
   "execution_count": 1243,
   "id": "c4f5cec7",
   "metadata": {},
   "outputs": [
    {
     "data": {
      "text/plain": [
       "0        30000.0\n",
       "2        45000.0\n",
       "3        92000.0\n",
       "4        50000.0\n",
       "5        30000.0\n",
       "          ...   \n",
       "69705    24000.0\n",
       "69707    30000.0\n",
       "69708    30000.0\n",
       "69709    30000.0\n",
       "69711    80000.0\n",
       "Name: Loan_Amount, Length: 47422, dtype: float64"
      ]
     },
     "execution_count": 1243,
     "metadata": {},
     "output_type": "execute_result"
    }
   ],
   "source": [
    "df[df['Interest_Rate'].isna()]['Loan_Amount']"
   ]
  },
  {
   "cell_type": "code",
   "execution_count": 1244,
   "id": "74c90c4b",
   "metadata": {},
   "outputs": [
    {
     "data": {
      "text/plain": [
       "count    22276.000000\n",
       "mean        19.213570\n",
       "std          5.847136\n",
       "min         11.990000\n",
       "25%         15.250000\n",
       "50%         18.000000\n",
       "75%         20.000000\n",
       "max         37.000000\n",
       "Name: Interest_Rate, dtype: float64"
      ]
     },
     "execution_count": 1244,
     "metadata": {},
     "output_type": "execute_result"
    }
   ],
   "source": [
    "df['Interest_Rate'].describe()"
   ]
  },
  {
   "cell_type": "code",
   "execution_count": 1245,
   "id": "49f6539a",
   "metadata": {},
   "outputs": [],
   "source": [
    "# imputer = KNNImputer(n_neighbors=5,missing_values=np.nan)\n",
    "\n",
    "# # Fit and transform the DataFrame\n",
    "# df['Interest_Rate'] = imputer.fit_transform(df[['Interest_Rate']])\n"
   ]
  },
  {
   "cell_type": "code",
   "execution_count": 1246,
   "id": "6c9f88b4",
   "metadata": {},
   "outputs": [],
   "source": [
    "df['Interest_Rate'] = df['Interest_Rate'].fillna(df['Interest_Rate'].median())"
   ]
  },
  {
   "cell_type": "code",
   "execution_count": 1247,
   "id": "f1dc665b",
   "metadata": {},
   "outputs": [
    {
     "data": {
      "text/plain": [
       "count    69698.000000\n",
       "mean        18.387866\n",
       "std          3.353653\n",
       "min         11.990000\n",
       "25%         18.000000\n",
       "50%         18.000000\n",
       "75%         18.000000\n",
       "max         37.000000\n",
       "Name: Interest_Rate, dtype: float64"
      ]
     },
     "execution_count": 1247,
     "metadata": {},
     "output_type": "execute_result"
    }
   ],
   "source": [
    "df['Interest_Rate'].describe()"
   ]
  },
  {
   "cell_type": "code",
   "execution_count": 1248,
   "id": "5481ac52",
   "metadata": {},
   "outputs": [
    {
     "data": {
      "text/plain": [
       "18.387865935894574"
      ]
     },
     "execution_count": 1248,
     "metadata": {},
     "output_type": "execute_result"
    }
   ],
   "source": [
    "df['Interest_Rate'].mean()"
   ]
  },
  {
   "cell_type": "code",
   "execution_count": 1249,
   "id": "c09ff988",
   "metadata": {},
   "outputs": [
    {
     "data": {
      "text/plain": [
       "ID                                         0\n",
       "Gender                                     0\n",
       "DOB                                        0\n",
       "Lead_Creation_Date                         0\n",
       "City_Code                                814\n",
       "City_Category                              0\n",
       "Employer_Code                           4003\n",
       "Employer_Category1                         0\n",
       "Employer_Category2                         0\n",
       "Monthly_Income                             0\n",
       "Customer_Existing_Primary_Bank_Code     9376\n",
       "Primary_Bank_Type                          0\n",
       "Contacted                                  0\n",
       "Source                                     0\n",
       "Source_Category                            0\n",
       "Existing_EMI                               0\n",
       "Loan_Amount                                0\n",
       "Loan_Period                            27694\n",
       "Interest_Rate                              0\n",
       "EMI                                    47422\n",
       "Var1                                       0\n",
       "Approved                                   0\n",
       "Age                                        0\n",
       "dtype: int64"
      ]
     },
     "execution_count": 1249,
     "metadata": {},
     "output_type": "execute_result"
    }
   ],
   "source": [
    "df.isnull().sum()"
   ]
  },
  {
   "cell_type": "code",
   "execution_count": 1250,
   "id": "e3f36da1",
   "metadata": {},
   "outputs": [],
   "source": [
    "df['Loan_Period'] = df['Loan_Period'].fillna(df['Loan_Period'].median())"
   ]
  },
  {
   "cell_type": "code",
   "execution_count": 1251,
   "id": "1c08fe33",
   "metadata": {},
   "outputs": [
    {
     "data": {
      "text/plain": [
       "4.0"
      ]
     },
     "execution_count": 1251,
     "metadata": {},
     "output_type": "execute_result"
    }
   ],
   "source": [
    "df['Loan_Period'].median()"
   ]
  },
  {
   "cell_type": "code",
   "execution_count": 1252,
   "id": "11dbe433",
   "metadata": {},
   "outputs": [],
   "source": [
    "df['EMI'] = df['EMI'].fillna(df['EMI'].median())"
   ]
  },
  {
   "cell_type": "code",
   "execution_count": 1253,
   "id": "057298a1",
   "metadata": {},
   "outputs": [
    {
     "data": {
      "text/plain": [
       "941.0"
      ]
     },
     "execution_count": 1253,
     "metadata": {},
     "output_type": "execute_result"
    }
   ],
   "source": [
    "df['EMI'].median()"
   ]
  },
  {
   "cell_type": "code",
   "execution_count": 1254,
   "id": "9569cd81",
   "metadata": {},
   "outputs": [
    {
     "data": {
      "text/plain": [
       "ID                                        0\n",
       "Gender                                    0\n",
       "DOB                                       0\n",
       "Lead_Creation_Date                        0\n",
       "City_Code                               814\n",
       "City_Category                             0\n",
       "Employer_Code                          4003\n",
       "Employer_Category1                        0\n",
       "Employer_Category2                        0\n",
       "Monthly_Income                            0\n",
       "Customer_Existing_Primary_Bank_Code    9376\n",
       "Primary_Bank_Type                         0\n",
       "Contacted                                 0\n",
       "Source                                    0\n",
       "Source_Category                           0\n",
       "Existing_EMI                              0\n",
       "Loan_Amount                               0\n",
       "Loan_Period                               0\n",
       "Interest_Rate                             0\n",
       "EMI                                       0\n",
       "Var1                                      0\n",
       "Approved                                  0\n",
       "Age                                       0\n",
       "dtype: int64"
      ]
     },
     "execution_count": 1254,
     "metadata": {},
     "output_type": "execute_result"
    }
   ],
   "source": [
    "df.isnull().sum()"
   ]
  },
  {
   "cell_type": "code",
   "execution_count": 1255,
   "id": "dbda4608",
   "metadata": {},
   "outputs": [],
   "source": [
    "df = df.drop('City_Code', axis =1)"
   ]
  },
  {
   "cell_type": "code",
   "execution_count": 1256,
   "id": "3e12de71",
   "metadata": {},
   "outputs": [
    {
     "data": {
      "text/plain": [
       "ID                                        0\n",
       "Gender                                    0\n",
       "DOB                                       0\n",
       "Lead_Creation_Date                        0\n",
       "City_Category                             0\n",
       "Employer_Code                          4003\n",
       "Employer_Category1                        0\n",
       "Employer_Category2                        0\n",
       "Monthly_Income                            0\n",
       "Customer_Existing_Primary_Bank_Code    9376\n",
       "Primary_Bank_Type                         0\n",
       "Contacted                                 0\n",
       "Source                                    0\n",
       "Source_Category                           0\n",
       "Existing_EMI                              0\n",
       "Loan_Amount                               0\n",
       "Loan_Period                               0\n",
       "Interest_Rate                             0\n",
       "EMI                                       0\n",
       "Var1                                      0\n",
       "Approved                                  0\n",
       "Age                                       0\n",
       "dtype: int64"
      ]
     },
     "execution_count": 1256,
     "metadata": {},
     "output_type": "execute_result"
    }
   ],
   "source": [
    "df.isnull().sum()"
   ]
  },
  {
   "cell_type": "code",
   "execution_count": 1257,
   "id": "f1cfb589",
   "metadata": {},
   "outputs": [
    {
     "name": "stdout",
     "output_type": "stream",
     "text": [
      "<class 'pandas.core.frame.DataFrame'>\n",
      "Int64Index: 69698 entries, 0 to 69712\n",
      "Data columns (total 22 columns):\n",
      " #   Column                               Non-Null Count  Dtype         \n",
      "---  ------                               --------------  -----         \n",
      " 0   ID                                   69698 non-null  object        \n",
      " 1   Gender                               69698 non-null  object        \n",
      " 2   DOB                                  69698 non-null  datetime64[ns]\n",
      " 3   Lead_Creation_Date                   69698 non-null  object        \n",
      " 4   City_Category                        69698 non-null  object        \n",
      " 5   Employer_Code                        65695 non-null  object        \n",
      " 6   Employer_Category1                   69698 non-null  object        \n",
      " 7   Employer_Category2                   69698 non-null  float64       \n",
      " 8   Monthly_Income                       69698 non-null  float64       \n",
      " 9   Customer_Existing_Primary_Bank_Code  60322 non-null  object        \n",
      " 10  Primary_Bank_Type                    69698 non-null  object        \n",
      " 11  Contacted                            69698 non-null  object        \n",
      " 12  Source                               69698 non-null  object        \n",
      " 13  Source_Category                      69698 non-null  object        \n",
      " 14  Existing_EMI                         69698 non-null  float64       \n",
      " 15  Loan_Amount                          69698 non-null  float64       \n",
      " 16  Loan_Period                          69698 non-null  float64       \n",
      " 17  Interest_Rate                        69698 non-null  float64       \n",
      " 18  EMI                                  69698 non-null  float64       \n",
      " 19  Var1                                 69698 non-null  int64         \n",
      " 20  Approved                             69698 non-null  int64         \n",
      " 21  Age                                  69698 non-null  float64       \n",
      "dtypes: datetime64[ns](1), float64(8), int64(2), object(11)\n",
      "memory usage: 12.2+ MB\n"
     ]
    }
   ],
   "source": [
    "df.info()"
   ]
  },
  {
   "cell_type": "code",
   "execution_count": 1258,
   "id": "278bd480",
   "metadata": {},
   "outputs": [],
   "source": [
    "df['Lead_Creation_Date'] = pd.to_datetime(df['Lead_Creation_Date'],format='%d/%m/%y')"
   ]
  },
  {
   "cell_type": "code",
   "execution_count": 1259,
   "id": "40726181",
   "metadata": {},
   "outputs": [],
   "source": [
    "df['Day_Name']=df['Lead_Creation_Date'].dt.day_name()"
   ]
  },
  {
   "cell_type": "code",
   "execution_count": 1260,
   "id": "64821d74",
   "metadata": {},
   "outputs": [],
   "source": [
    "df['Month_Name'] = df['Lead_Creation_Date'].dt.month_name()"
   ]
  },
  {
   "cell_type": "code",
   "execution_count": 1261,
   "id": "cb7d23bd",
   "metadata": {},
   "outputs": [
    {
     "data": {
      "text/plain": [
       "0        7\n",
       "1        7\n",
       "2        7\n",
       "3        7\n",
       "4        7\n",
       "        ..\n",
       "69708    9\n",
       "69709    9\n",
       "69710    9\n",
       "69711    9\n",
       "69712    9\n",
       "Name: Lead_Creation_Date, Length: 69698, dtype: int64"
      ]
     },
     "execution_count": 1261,
     "metadata": {},
     "output_type": "execute_result"
    }
   ],
   "source": [
    "df['Lead_Creation_Date'].dt.month"
   ]
  },
  {
   "cell_type": "code",
   "execution_count": 1262,
   "id": "023580d1",
   "metadata": {},
   "outputs": [
    {
     "data": {
      "text/plain": [
       "0       2016-07-15\n",
       "1       2016-07-04\n",
       "2       2016-07-19\n",
       "3       2016-07-09\n",
       "4       2016-07-20\n",
       "           ...    \n",
       "69708   2016-09-30\n",
       "69709   2016-09-30\n",
       "69710   2016-09-30\n",
       "69711   2016-09-30\n",
       "69712   2016-09-30\n",
       "Name: Lead_Creation_Date, Length: 69698, dtype: datetime64[ns]"
      ]
     },
     "execution_count": 1262,
     "metadata": {},
     "output_type": "execute_result"
    }
   ],
   "source": [
    "df['Lead_Creation_Date']"
   ]
  },
  {
   "cell_type": "code",
   "execution_count": null,
   "id": "dc3ef852",
   "metadata": {},
   "outputs": [],
   "source": []
  },
  {
   "cell_type": "code",
   "execution_count": 1263,
   "id": "c4943a20",
   "metadata": {},
   "outputs": [],
   "source": [
    "df['Day_Number'] = df['Lead_Creation_Date'].dt.day"
   ]
  },
  {
   "cell_type": "code",
   "execution_count": 1264,
   "id": "abab8dd9",
   "metadata": {},
   "outputs": [
    {
     "data": {
      "text/html": [
       "<div>\n",
       "<style scoped>\n",
       "    .dataframe tbody tr th:only-of-type {\n",
       "        vertical-align: middle;\n",
       "    }\n",
       "\n",
       "    .dataframe tbody tr th {\n",
       "        vertical-align: top;\n",
       "    }\n",
       "\n",
       "    .dataframe thead th {\n",
       "        text-align: right;\n",
       "    }\n",
       "</style>\n",
       "<table border=\"1\" class=\"dataframe\">\n",
       "  <thead>\n",
       "    <tr style=\"text-align: right;\">\n",
       "      <th></th>\n",
       "      <th>ID</th>\n",
       "      <th>Gender</th>\n",
       "      <th>DOB</th>\n",
       "      <th>Lead_Creation_Date</th>\n",
       "      <th>City_Category</th>\n",
       "      <th>Employer_Code</th>\n",
       "      <th>Employer_Category1</th>\n",
       "      <th>Employer_Category2</th>\n",
       "      <th>Monthly_Income</th>\n",
       "      <th>Customer_Existing_Primary_Bank_Code</th>\n",
       "      <th>...</th>\n",
       "      <th>Loan_Amount</th>\n",
       "      <th>Loan_Period</th>\n",
       "      <th>Interest_Rate</th>\n",
       "      <th>EMI</th>\n",
       "      <th>Var1</th>\n",
       "      <th>Approved</th>\n",
       "      <th>Age</th>\n",
       "      <th>Day_Name</th>\n",
       "      <th>Month_Name</th>\n",
       "      <th>Day_Number</th>\n",
       "    </tr>\n",
       "  </thead>\n",
       "  <tbody>\n",
       "    <tr>\n",
       "      <th>0</th>\n",
       "      <td>APPC90493171225</td>\n",
       "      <td>Female</td>\n",
       "      <td>1979-07-23</td>\n",
       "      <td>2016-07-15</td>\n",
       "      <td>A</td>\n",
       "      <td>COM0044082</td>\n",
       "      <td>A</td>\n",
       "      <td>4.0</td>\n",
       "      <td>2000.0</td>\n",
       "      <td>B001</td>\n",
       "      <td>...</td>\n",
       "      <td>30000.0</td>\n",
       "      <td>4.0</td>\n",
       "      <td>18.00</td>\n",
       "      <td>941.0</td>\n",
       "      <td>0</td>\n",
       "      <td>0</td>\n",
       "      <td>44.0</td>\n",
       "      <td>Friday</td>\n",
       "      <td>July</td>\n",
       "      <td>15</td>\n",
       "    </tr>\n",
       "    <tr>\n",
       "      <th>1</th>\n",
       "      <td>APPD40611263344</td>\n",
       "      <td>Male</td>\n",
       "      <td>1986-12-07</td>\n",
       "      <td>2016-07-04</td>\n",
       "      <td>A</td>\n",
       "      <td>COM0000002</td>\n",
       "      <td>C</td>\n",
       "      <td>1.0</td>\n",
       "      <td>3500.0</td>\n",
       "      <td>B002</td>\n",
       "      <td>...</td>\n",
       "      <td>20000.0</td>\n",
       "      <td>2.0</td>\n",
       "      <td>13.25</td>\n",
       "      <td>953.0</td>\n",
       "      <td>10</td>\n",
       "      <td>0</td>\n",
       "      <td>37.0</td>\n",
       "      <td>Monday</td>\n",
       "      <td>July</td>\n",
       "      <td>4</td>\n",
       "    </tr>\n",
       "    <tr>\n",
       "      <th>2</th>\n",
       "      <td>APPE70289249423</td>\n",
       "      <td>Male</td>\n",
       "      <td>1982-12-10</td>\n",
       "      <td>2016-07-19</td>\n",
       "      <td>C</td>\n",
       "      <td>COM0005267</td>\n",
       "      <td>C</td>\n",
       "      <td>4.0</td>\n",
       "      <td>2250.0</td>\n",
       "      <td>B003</td>\n",
       "      <td>...</td>\n",
       "      <td>45000.0</td>\n",
       "      <td>4.0</td>\n",
       "      <td>18.00</td>\n",
       "      <td>941.0</td>\n",
       "      <td>0</td>\n",
       "      <td>0</td>\n",
       "      <td>41.0</td>\n",
       "      <td>Tuesday</td>\n",
       "      <td>July</td>\n",
       "      <td>19</td>\n",
       "    </tr>\n",
       "    <tr>\n",
       "      <th>3</th>\n",
       "      <td>APPF80273865537</td>\n",
       "      <td>Male</td>\n",
       "      <td>1989-01-30</td>\n",
       "      <td>2016-07-09</td>\n",
       "      <td>C</td>\n",
       "      <td>COM0004143</td>\n",
       "      <td>A</td>\n",
       "      <td>4.0</td>\n",
       "      <td>3500.0</td>\n",
       "      <td>B003</td>\n",
       "      <td>...</td>\n",
       "      <td>92000.0</td>\n",
       "      <td>5.0</td>\n",
       "      <td>18.00</td>\n",
       "      <td>941.0</td>\n",
       "      <td>7</td>\n",
       "      <td>0</td>\n",
       "      <td>34.0</td>\n",
       "      <td>Saturday</td>\n",
       "      <td>July</td>\n",
       "      <td>9</td>\n",
       "    </tr>\n",
       "    <tr>\n",
       "      <th>4</th>\n",
       "      <td>APPG60994436641</td>\n",
       "      <td>Male</td>\n",
       "      <td>1985-04-19</td>\n",
       "      <td>2016-07-20</td>\n",
       "      <td>A</td>\n",
       "      <td>COM0001781</td>\n",
       "      <td>A</td>\n",
       "      <td>4.0</td>\n",
       "      <td>10000.0</td>\n",
       "      <td>B001</td>\n",
       "      <td>...</td>\n",
       "      <td>50000.0</td>\n",
       "      <td>2.0</td>\n",
       "      <td>18.00</td>\n",
       "      <td>941.0</td>\n",
       "      <td>10</td>\n",
       "      <td>0</td>\n",
       "      <td>38.0</td>\n",
       "      <td>Wednesday</td>\n",
       "      <td>July</td>\n",
       "      <td>20</td>\n",
       "    </tr>\n",
       "  </tbody>\n",
       "</table>\n",
       "<p>5 rows × 25 columns</p>\n",
       "</div>"
      ],
      "text/plain": [
       "                ID  Gender        DOB Lead_Creation_Date City_Category  \\\n",
       "0  APPC90493171225  Female 1979-07-23         2016-07-15             A   \n",
       "1  APPD40611263344    Male 1986-12-07         2016-07-04             A   \n",
       "2  APPE70289249423    Male 1982-12-10         2016-07-19             C   \n",
       "3  APPF80273865537    Male 1989-01-30         2016-07-09             C   \n",
       "4  APPG60994436641    Male 1985-04-19         2016-07-20             A   \n",
       "\n",
       "  Employer_Code Employer_Category1  Employer_Category2  Monthly_Income  \\\n",
       "0    COM0044082                  A                 4.0          2000.0   \n",
       "1    COM0000002                  C                 1.0          3500.0   \n",
       "2    COM0005267                  C                 4.0          2250.0   \n",
       "3    COM0004143                  A                 4.0          3500.0   \n",
       "4    COM0001781                  A                 4.0         10000.0   \n",
       "\n",
       "  Customer_Existing_Primary_Bank_Code  ... Loan_Amount Loan_Period  \\\n",
       "0                                B001  ...     30000.0         4.0   \n",
       "1                                B002  ...     20000.0         2.0   \n",
       "2                                B003  ...     45000.0         4.0   \n",
       "3                                B003  ...     92000.0         5.0   \n",
       "4                                B001  ...     50000.0         2.0   \n",
       "\n",
       "  Interest_Rate    EMI  Var1  Approved   Age   Day_Name  Month_Name  \\\n",
       "0         18.00  941.0     0         0  44.0     Friday        July   \n",
       "1         13.25  953.0    10         0  37.0     Monday        July   \n",
       "2         18.00  941.0     0         0  41.0    Tuesday        July   \n",
       "3         18.00  941.0     7         0  34.0   Saturday        July   \n",
       "4         18.00  941.0    10         0  38.0  Wednesday        July   \n",
       "\n",
       "   Day_Number  \n",
       "0          15  \n",
       "1           4  \n",
       "2          19  \n",
       "3           9  \n",
       "4          20  \n",
       "\n",
       "[5 rows x 25 columns]"
      ]
     },
     "execution_count": 1264,
     "metadata": {},
     "output_type": "execute_result"
    }
   ],
   "source": [
    "df.head()"
   ]
  },
  {
   "cell_type": "code",
   "execution_count": 1265,
   "id": "746dc8b9",
   "metadata": {},
   "outputs": [],
   "source": [
    "dummies = pd.get_dummies(df[['Gender','City_Category','Employer_Category1', 'Primary_Bank_Type',\n",
    "                            'Contacted','Day_Name','Month_Name','Source_Category']],drop_first=True)"
   ]
  },
  {
   "cell_type": "code",
   "execution_count": 1266,
   "id": "849f881a",
   "metadata": {},
   "outputs": [
    {
     "data": {
      "text/plain": [
       "Index(['Gender_Male', 'City_Category_B', 'City_Category_C',\n",
       "       'Employer_Category1_B', 'Employer_Category1_C', 'Primary_Bank_Type_P',\n",
       "       'Contacted_Y', 'Day_Name_Monday', 'Day_Name_Saturday',\n",
       "       'Day_Name_Sunday', 'Day_Name_Thursday', 'Day_Name_Tuesday',\n",
       "       'Day_Name_Wednesday', 'Month_Name_July', 'Month_Name_September',\n",
       "       'Source_Category_B', 'Source_Category_C', 'Source_Category_D',\n",
       "       'Source_Category_E', 'Source_Category_F', 'Source_Category_G'],\n",
       "      dtype='object')"
      ]
     },
     "execution_count": 1266,
     "metadata": {},
     "output_type": "execute_result"
    }
   ],
   "source": [
    "dummies.columns"
   ]
  },
  {
   "cell_type": "code",
   "execution_count": 1267,
   "id": "e8a140a4",
   "metadata": {},
   "outputs": [
    {
     "data": {
      "text/html": [
       "<div>\n",
       "<style scoped>\n",
       "    .dataframe tbody tr th:only-of-type {\n",
       "        vertical-align: middle;\n",
       "    }\n",
       "\n",
       "    .dataframe tbody tr th {\n",
       "        vertical-align: top;\n",
       "    }\n",
       "\n",
       "    .dataframe thead th {\n",
       "        text-align: right;\n",
       "    }\n",
       "</style>\n",
       "<table border=\"1\" class=\"dataframe\">\n",
       "  <thead>\n",
       "    <tr style=\"text-align: right;\">\n",
       "      <th></th>\n",
       "      <th>Gender_Male</th>\n",
       "      <th>City_Category_B</th>\n",
       "      <th>City_Category_C</th>\n",
       "      <th>Employer_Category1_B</th>\n",
       "      <th>Employer_Category1_C</th>\n",
       "      <th>Primary_Bank_Type_P</th>\n",
       "      <th>Contacted_Y</th>\n",
       "      <th>Day_Name_Monday</th>\n",
       "      <th>Day_Name_Saturday</th>\n",
       "      <th>Day_Name_Sunday</th>\n",
       "      <th>...</th>\n",
       "      <th>Day_Name_Tuesday</th>\n",
       "      <th>Day_Name_Wednesday</th>\n",
       "      <th>Month_Name_July</th>\n",
       "      <th>Month_Name_September</th>\n",
       "      <th>Source_Category_B</th>\n",
       "      <th>Source_Category_C</th>\n",
       "      <th>Source_Category_D</th>\n",
       "      <th>Source_Category_E</th>\n",
       "      <th>Source_Category_F</th>\n",
       "      <th>Source_Category_G</th>\n",
       "    </tr>\n",
       "  </thead>\n",
       "  <tbody>\n",
       "    <tr>\n",
       "      <th>0</th>\n",
       "      <td>0</td>\n",
       "      <td>0</td>\n",
       "      <td>0</td>\n",
       "      <td>0</td>\n",
       "      <td>0</td>\n",
       "      <td>1</td>\n",
       "      <td>0</td>\n",
       "      <td>0</td>\n",
       "      <td>0</td>\n",
       "      <td>0</td>\n",
       "      <td>...</td>\n",
       "      <td>0</td>\n",
       "      <td>0</td>\n",
       "      <td>1</td>\n",
       "      <td>0</td>\n",
       "      <td>0</td>\n",
       "      <td>0</td>\n",
       "      <td>0</td>\n",
       "      <td>0</td>\n",
       "      <td>0</td>\n",
       "      <td>1</td>\n",
       "    </tr>\n",
       "    <tr>\n",
       "      <th>1</th>\n",
       "      <td>1</td>\n",
       "      <td>0</td>\n",
       "      <td>0</td>\n",
       "      <td>0</td>\n",
       "      <td>1</td>\n",
       "      <td>1</td>\n",
       "      <td>1</td>\n",
       "      <td>1</td>\n",
       "      <td>0</td>\n",
       "      <td>0</td>\n",
       "      <td>...</td>\n",
       "      <td>0</td>\n",
       "      <td>0</td>\n",
       "      <td>1</td>\n",
       "      <td>0</td>\n",
       "      <td>0</td>\n",
       "      <td>0</td>\n",
       "      <td>0</td>\n",
       "      <td>0</td>\n",
       "      <td>0</td>\n",
       "      <td>1</td>\n",
       "    </tr>\n",
       "    <tr>\n",
       "      <th>2</th>\n",
       "      <td>1</td>\n",
       "      <td>0</td>\n",
       "      <td>1</td>\n",
       "      <td>0</td>\n",
       "      <td>1</td>\n",
       "      <td>0</td>\n",
       "      <td>1</td>\n",
       "      <td>0</td>\n",
       "      <td>0</td>\n",
       "      <td>0</td>\n",
       "      <td>...</td>\n",
       "      <td>1</td>\n",
       "      <td>0</td>\n",
       "      <td>1</td>\n",
       "      <td>0</td>\n",
       "      <td>1</td>\n",
       "      <td>0</td>\n",
       "      <td>0</td>\n",
       "      <td>0</td>\n",
       "      <td>0</td>\n",
       "      <td>0</td>\n",
       "    </tr>\n",
       "    <tr>\n",
       "      <th>3</th>\n",
       "      <td>1</td>\n",
       "      <td>0</td>\n",
       "      <td>1</td>\n",
       "      <td>0</td>\n",
       "      <td>0</td>\n",
       "      <td>0</td>\n",
       "      <td>1</td>\n",
       "      <td>0</td>\n",
       "      <td>1</td>\n",
       "      <td>0</td>\n",
       "      <td>...</td>\n",
       "      <td>0</td>\n",
       "      <td>0</td>\n",
       "      <td>1</td>\n",
       "      <td>0</td>\n",
       "      <td>1</td>\n",
       "      <td>0</td>\n",
       "      <td>0</td>\n",
       "      <td>0</td>\n",
       "      <td>0</td>\n",
       "      <td>0</td>\n",
       "    </tr>\n",
       "    <tr>\n",
       "      <th>4</th>\n",
       "      <td>1</td>\n",
       "      <td>0</td>\n",
       "      <td>0</td>\n",
       "      <td>0</td>\n",
       "      <td>0</td>\n",
       "      <td>1</td>\n",
       "      <td>1</td>\n",
       "      <td>0</td>\n",
       "      <td>0</td>\n",
       "      <td>0</td>\n",
       "      <td>...</td>\n",
       "      <td>0</td>\n",
       "      <td>1</td>\n",
       "      <td>1</td>\n",
       "      <td>0</td>\n",
       "      <td>1</td>\n",
       "      <td>0</td>\n",
       "      <td>0</td>\n",
       "      <td>0</td>\n",
       "      <td>0</td>\n",
       "      <td>0</td>\n",
       "    </tr>\n",
       "    <tr>\n",
       "      <th>...</th>\n",
       "      <td>...</td>\n",
       "      <td>...</td>\n",
       "      <td>...</td>\n",
       "      <td>...</td>\n",
       "      <td>...</td>\n",
       "      <td>...</td>\n",
       "      <td>...</td>\n",
       "      <td>...</td>\n",
       "      <td>...</td>\n",
       "      <td>...</td>\n",
       "      <td>...</td>\n",
       "      <td>...</td>\n",
       "      <td>...</td>\n",
       "      <td>...</td>\n",
       "      <td>...</td>\n",
       "      <td>...</td>\n",
       "      <td>...</td>\n",
       "      <td>...</td>\n",
       "      <td>...</td>\n",
       "      <td>...</td>\n",
       "      <td>...</td>\n",
       "    </tr>\n",
       "    <tr>\n",
       "      <th>69708</th>\n",
       "      <td>0</td>\n",
       "      <td>0</td>\n",
       "      <td>0</td>\n",
       "      <td>0</td>\n",
       "      <td>0</td>\n",
       "      <td>1</td>\n",
       "      <td>0</td>\n",
       "      <td>0</td>\n",
       "      <td>0</td>\n",
       "      <td>0</td>\n",
       "      <td>...</td>\n",
       "      <td>0</td>\n",
       "      <td>0</td>\n",
       "      <td>0</td>\n",
       "      <td>1</td>\n",
       "      <td>0</td>\n",
       "      <td>0</td>\n",
       "      <td>0</td>\n",
       "      <td>0</td>\n",
       "      <td>0</td>\n",
       "      <td>1</td>\n",
       "    </tr>\n",
       "    <tr>\n",
       "      <th>69709</th>\n",
       "      <td>0</td>\n",
       "      <td>0</td>\n",
       "      <td>1</td>\n",
       "      <td>0</td>\n",
       "      <td>0</td>\n",
       "      <td>1</td>\n",
       "      <td>0</td>\n",
       "      <td>0</td>\n",
       "      <td>0</td>\n",
       "      <td>0</td>\n",
       "      <td>...</td>\n",
       "      <td>0</td>\n",
       "      <td>0</td>\n",
       "      <td>0</td>\n",
       "      <td>1</td>\n",
       "      <td>0</td>\n",
       "      <td>0</td>\n",
       "      <td>0</td>\n",
       "      <td>0</td>\n",
       "      <td>0</td>\n",
       "      <td>1</td>\n",
       "    </tr>\n",
       "    <tr>\n",
       "      <th>69710</th>\n",
       "      <td>0</td>\n",
       "      <td>1</td>\n",
       "      <td>0</td>\n",
       "      <td>0</td>\n",
       "      <td>1</td>\n",
       "      <td>1</td>\n",
       "      <td>1</td>\n",
       "      <td>0</td>\n",
       "      <td>0</td>\n",
       "      <td>0</td>\n",
       "      <td>...</td>\n",
       "      <td>0</td>\n",
       "      <td>0</td>\n",
       "      <td>0</td>\n",
       "      <td>1</td>\n",
       "      <td>0</td>\n",
       "      <td>0</td>\n",
       "      <td>0</td>\n",
       "      <td>0</td>\n",
       "      <td>0</td>\n",
       "      <td>1</td>\n",
       "    </tr>\n",
       "    <tr>\n",
       "      <th>69711</th>\n",
       "      <td>1</td>\n",
       "      <td>0</td>\n",
       "      <td>0</td>\n",
       "      <td>0</td>\n",
       "      <td>1</td>\n",
       "      <td>1</td>\n",
       "      <td>1</td>\n",
       "      <td>0</td>\n",
       "      <td>0</td>\n",
       "      <td>0</td>\n",
       "      <td>...</td>\n",
       "      <td>0</td>\n",
       "      <td>0</td>\n",
       "      <td>0</td>\n",
       "      <td>1</td>\n",
       "      <td>0</td>\n",
       "      <td>0</td>\n",
       "      <td>0</td>\n",
       "      <td>0</td>\n",
       "      <td>0</td>\n",
       "      <td>1</td>\n",
       "    </tr>\n",
       "    <tr>\n",
       "      <th>69712</th>\n",
       "      <td>1</td>\n",
       "      <td>0</td>\n",
       "      <td>0</td>\n",
       "      <td>0</td>\n",
       "      <td>0</td>\n",
       "      <td>1</td>\n",
       "      <td>1</td>\n",
       "      <td>0</td>\n",
       "      <td>0</td>\n",
       "      <td>0</td>\n",
       "      <td>...</td>\n",
       "      <td>0</td>\n",
       "      <td>0</td>\n",
       "      <td>0</td>\n",
       "      <td>1</td>\n",
       "      <td>0</td>\n",
       "      <td>0</td>\n",
       "      <td>0</td>\n",
       "      <td>0</td>\n",
       "      <td>0</td>\n",
       "      <td>1</td>\n",
       "    </tr>\n",
       "  </tbody>\n",
       "</table>\n",
       "<p>69698 rows × 21 columns</p>\n",
       "</div>"
      ],
      "text/plain": [
       "       Gender_Male  City_Category_B  City_Category_C  Employer_Category1_B  \\\n",
       "0                0                0                0                     0   \n",
       "1                1                0                0                     0   \n",
       "2                1                0                1                     0   \n",
       "3                1                0                1                     0   \n",
       "4                1                0                0                     0   \n",
       "...            ...              ...              ...                   ...   \n",
       "69708            0                0                0                     0   \n",
       "69709            0                0                1                     0   \n",
       "69710            0                1                0                     0   \n",
       "69711            1                0                0                     0   \n",
       "69712            1                0                0                     0   \n",
       "\n",
       "       Employer_Category1_C  Primary_Bank_Type_P  Contacted_Y  \\\n",
       "0                         0                    1            0   \n",
       "1                         1                    1            1   \n",
       "2                         1                    0            1   \n",
       "3                         0                    0            1   \n",
       "4                         0                    1            1   \n",
       "...                     ...                  ...          ...   \n",
       "69708                     0                    1            0   \n",
       "69709                     0                    1            0   \n",
       "69710                     1                    1            1   \n",
       "69711                     1                    1            1   \n",
       "69712                     0                    1            1   \n",
       "\n",
       "       Day_Name_Monday  Day_Name_Saturday  Day_Name_Sunday  ...  \\\n",
       "0                    0                  0                0  ...   \n",
       "1                    1                  0                0  ...   \n",
       "2                    0                  0                0  ...   \n",
       "3                    0                  1                0  ...   \n",
       "4                    0                  0                0  ...   \n",
       "...                ...                ...              ...  ...   \n",
       "69708                0                  0                0  ...   \n",
       "69709                0                  0                0  ...   \n",
       "69710                0                  0                0  ...   \n",
       "69711                0                  0                0  ...   \n",
       "69712                0                  0                0  ...   \n",
       "\n",
       "       Day_Name_Tuesday  Day_Name_Wednesday  Month_Name_July  \\\n",
       "0                     0                   0                1   \n",
       "1                     0                   0                1   \n",
       "2                     1                   0                1   \n",
       "3                     0                   0                1   \n",
       "4                     0                   1                1   \n",
       "...                 ...                 ...              ...   \n",
       "69708                 0                   0                0   \n",
       "69709                 0                   0                0   \n",
       "69710                 0                   0                0   \n",
       "69711                 0                   0                0   \n",
       "69712                 0                   0                0   \n",
       "\n",
       "       Month_Name_September  Source_Category_B  Source_Category_C  \\\n",
       "0                         0                  0                  0   \n",
       "1                         0                  0                  0   \n",
       "2                         0                  1                  0   \n",
       "3                         0                  1                  0   \n",
       "4                         0                  1                  0   \n",
       "...                     ...                ...                ...   \n",
       "69708                     1                  0                  0   \n",
       "69709                     1                  0                  0   \n",
       "69710                     1                  0                  0   \n",
       "69711                     1                  0                  0   \n",
       "69712                     1                  0                  0   \n",
       "\n",
       "       Source_Category_D  Source_Category_E  Source_Category_F  \\\n",
       "0                      0                  0                  0   \n",
       "1                      0                  0                  0   \n",
       "2                      0                  0                  0   \n",
       "3                      0                  0                  0   \n",
       "4                      0                  0                  0   \n",
       "...                  ...                ...                ...   \n",
       "69708                  0                  0                  0   \n",
       "69709                  0                  0                  0   \n",
       "69710                  0                  0                  0   \n",
       "69711                  0                  0                  0   \n",
       "69712                  0                  0                  0   \n",
       "\n",
       "       Source_Category_G  \n",
       "0                      1  \n",
       "1                      1  \n",
       "2                      0  \n",
       "3                      0  \n",
       "4                      0  \n",
       "...                  ...  \n",
       "69708                  1  \n",
       "69709                  1  \n",
       "69710                  1  \n",
       "69711                  1  \n",
       "69712                  1  \n",
       "\n",
       "[69698 rows x 21 columns]"
      ]
     },
     "execution_count": 1267,
     "metadata": {},
     "output_type": "execute_result"
    }
   ],
   "source": [
    "dummies"
   ]
  },
  {
   "cell_type": "code",
   "execution_count": 1268,
   "id": "7b30d098",
   "metadata": {},
   "outputs": [
    {
     "data": {
      "text/plain": [
       "September    25718\n",
       "August       22404\n",
       "July         21576\n",
       "Name: Month_Name, dtype: int64"
      ]
     },
     "execution_count": 1268,
     "metadata": {},
     "output_type": "execute_result"
    }
   ],
   "source": [
    "df['Month_Name'].value_counts()"
   ]
  },
  {
   "cell_type": "code",
   "execution_count": 1269,
   "id": "813eae73",
   "metadata": {},
   "outputs": [
    {
     "data": {
      "text/plain": [
       "<AxesSubplot:xlabel='Month_Name', ylabel='count'>"
      ]
     },
     "execution_count": 1269,
     "metadata": {},
     "output_type": "execute_result"
    },
    {
     "data": {
      "image/png": "[encoded data removed]",
      "text/plain": [
       "<Figure size 640x480 with 1 Axes>"
      ]
     },
     "metadata": {},
     "output_type": "display_data"
    }
   ],
   "source": [
    "sns.countplot(x=df['Month_Name'],hue=df['Approved'])"
   ]
  },
  {
   "cell_type": "code",
   "execution_count": 1270,
   "id": "841b320b",
   "metadata": {},
   "outputs": [
    {
     "data": {
      "text/plain": [
       "<AxesSubplot:xlabel='Primary_Bank_Type', ylabel='count'>"
      ]
     },
     "execution_count": 1270,
     "metadata": {},
     "output_type": "execute_result"
    },
    {
     "data": {
      "image/png": "[encoded data removed]",
      "text/plain": [
       "<Figure size 640x480 with 1 Axes>"
      ]
     },
     "metadata": {},
     "output_type": "display_data"
    }
   ],
   "source": [
    "sns.countplot(x=df['Primary_Bank_Type'],hue=df['Approved'])"
   ]
  },
  {
   "cell_type": "code",
   "execution_count": 1271,
   "id": "def3d939",
   "metadata": {},
   "outputs": [
    {
     "data": {
      "text/plain": [
       "<AxesSubplot:>"
      ]
     },
     "execution_count": 1271,
     "metadata": {},
     "output_type": "execute_result"
    },
    {
     "data": {
      "image/png": "[encoded data removed]",
      "text/plain": [
       "<Figure size 640x480 with 2 Axes>"
      ]
     },
     "metadata": {},
     "output_type": "display_data"
    }
   ],
   "source": [
    "sns.heatmap(df.corr())"
   ]
  },
  {
   "cell_type": "code",
   "execution_count": 1272,
   "id": "564cee13",
   "metadata": {},
   "outputs": [
    {
     "data": {
      "text/plain": [
       "<AxesSubplot:xlabel='Primary_Bank_Type', ylabel='Loan_Amount'>"
      ]
     },
     "execution_count": 1272,
     "metadata": {},
     "output_type": "execute_result"
    },
    {
     "data": {
      "image/png": "[encoded data removed]",
      "text/plain": [
       "<Figure size 640x480 with 1 Axes>"
      ]
     },
     "metadata": {},
     "output_type": "display_data"
    }
   ],
   "source": [
    "sns.barplot(x=df['Primary_Bank_Type'],y=df['Loan_Amount'],hue=df['Approved'])"
   ]
  },
  {
   "cell_type": "code",
   "execution_count": null,
   "id": "904c8094",
   "metadata": {},
   "outputs": [],
   "source": []
  },
  {
   "cell_type": "code",
   "execution_count": 1273,
   "id": "c2ae0b79",
   "metadata": {},
   "outputs": [
    {
     "data": {
      "text/plain": [
       "<AxesSubplot:xlabel='City_Category', ylabel='Loan_Amount'>"
      ]
     },
     "execution_count": 1273,
     "metadata": {},
     "output_type": "execute_result"
    },
    {
     "data": {
      "image/png": "[encoded data removed]",
      "text/plain": [
       "<Figure size 640x480 with 1 Axes>"
      ]
     },
     "metadata": {},
     "output_type": "display_data"
    }
   ],
   "source": [
    "sns.barplot(x=df['City_Category'],y=df['Loan_Amount'],hue=df['Approved'])"
   ]
  },
  {
   "cell_type": "code",
   "execution_count": 1274,
   "id": "8350f1bc",
   "metadata": {},
   "outputs": [
    {
     "data": {
      "text/plain": [
       "<AxesSubplot:xlabel='Month_Name', ylabel='Loan_Amount'>"
      ]
     },
     "execution_count": 1274,
     "metadata": {},
     "output_type": "execute_result"
    },
    {
     "data": {
      "image/png": "[encoded data removed]",
      "text/plain": [
       "<Figure size 640x480 with 1 Axes>"
      ]
     },
     "metadata": {},
     "output_type": "display_data"
    }
   ],
   "source": [
    "sns.barplot(x=df['Month_Name'],y=df['Loan_Amount'],hue=df['Approved'])"
   ]
  },
  {
   "cell_type": "code",
   "execution_count": 1275,
   "id": "38d64e69",
   "metadata": {},
   "outputs": [
    {
     "data": {
      "text/plain": [
       "<AxesSubplot:xlabel='Day_Name', ylabel='Loan_Amount'>"
      ]
     },
     "execution_count": 1275,
     "metadata": {},
     "output_type": "execute_result"
    },
    {
     "data": {
      "image/png": "[encoded data removed]",
      "text/plain": [
       "<Figure size 640x480 with 1 Axes>"
      ]
     },
     "metadata": {},
     "output_type": "display_data"
    }
   ],
   "source": [
    "sns.barplot(x=df['Day_Name'],y=df['Loan_Amount'],hue=df['Approved'])"
   ]
  },
  {
   "cell_type": "code",
   "execution_count": 1276,
   "id": "77b05848",
   "metadata": {},
   "outputs": [
    {
     "data": {
      "text/plain": [
       "([<matplotlib.patches.Wedge at 0x199d4eb01c0>,\n",
       "  <matplotlib.patches.Wedge at 0x199d4eb0400>,\n",
       "  <matplotlib.patches.Wedge at 0x199d4ed6460>,\n",
       "  <matplotlib.patches.Wedge at 0x199d4ed63a0>,\n",
       "  <matplotlib.patches.Wedge at 0x199d4ed61c0>,\n",
       "  <matplotlib.patches.Wedge at 0x199d3d24ac0>],\n",
       " [Text(-0.24504239799583136, 1.0723591857136547, ''),\n",
       "  Text(-0.39867079292309254, -1.0252129529371314, ''),\n",
       "  Text(0.706897684470165, -0.8427904031790581, ''),\n",
       "  Text(1.028554446195139, -0.38996891057135746, ''),\n",
       "  Text(1.096019277614188, -0.0934972892552162, ''),\n",
       "  Text(1.0999999988911473, -4.9391051604634935e-05, '')])"
      ]
     },
     "execution_count": 1276,
     "metadata": {},
     "output_type": "execute_result"
    },
    {
     "data": {
      "image/png": "[encoded data removed]",
      "text/plain": [
       "<Figure size 640x480 with 1 Axes>"
      ]
     },
     "metadata": {},
     "output_type": "display_data"
    }
   ],
   "source": [
    "plt.pie(df['Loan_Period'].value_counts().values)"
   ]
  },
  {
   "cell_type": "code",
   "execution_count": 1277,
   "id": "0c8d557f",
   "metadata": {},
   "outputs": [
    {
     "name": "stderr",
     "output_type": "stream",
     "text": [
      "C:\\Users\\MAYUR\\anaconda3\\lib\\site-packages\\seaborn\\_decorators.py:36: FutureWarning: Pass the following variable as a keyword arg: x. From version 0.12, the only valid positional argument will be `data`, and passing other arguments without an explicit keyword will result in an error or misinterpretation.\n",
      "  warnings.warn(\n"
     ]
    },
    {
     "data": {
      "text/plain": [
       "<AxesSubplot:xlabel='Loan_Period', ylabel='count'>"
      ]
     },
     "execution_count": 1277,
     "metadata": {},
     "output_type": "execute_result"
    },
    {
     "data": {
      "image/png": "[encoded data removed]",
      "text/plain": [
       "<Figure size 640x480 with 1 Axes>"
      ]
     },
     "metadata": {},
     "output_type": "display_data"
    }
   ],
   "source": [
    "sns.countplot(df['Loan_Period'])"
   ]
  },
  {
   "cell_type": "code",
   "execution_count": 1278,
   "id": "0273b64f",
   "metadata": {},
   "outputs": [
    {
     "data": {
      "text/plain": [
       "<AxesSubplot:xlabel='Loan_Period', ylabel='Interest_Rate'>"
      ]
     },
     "execution_count": 1278,
     "metadata": {},
     "output_type": "execute_result"
    },
    {
     "data": {
      "image/png": "[encoded data removed]",
      "text/plain": [
       "<Figure size 640x480 with 1 Axes>"
      ]
     },
     "metadata": {},
     "output_type": "display_data"
    }
   ],
   "source": [
    "sns.barplot(x=df['Loan_Period'],y=df['Interest_Rate'])"
   ]
  },
  {
   "cell_type": "code",
   "execution_count": 1279,
   "id": "ed47994c",
   "metadata": {},
   "outputs": [
    {
     "name": "stderr",
     "output_type": "stream",
     "text": [
      "C:\\Users\\MAYUR\\AppData\\Local\\Temp\\ipykernel_27080\\2493286766.py:1: FutureWarning: DataFrame.mean and DataFrame.median with numeric_only=None will include datetime64 and datetime64tz columns in a future version.\n",
      "  (df[df['Loan_Period']==5]).mean()\n",
      "C:\\Users\\MAYUR\\AppData\\Local\\Temp\\ipykernel_27080\\2493286766.py:1: FutureWarning: Dropping of nuisance columns in DataFrame reductions (with 'numeric_only=None') is deprecated; in a future version this will raise TypeError.  Select only valid columns before calling the reduction.\n",
      "  (df[df['Loan_Period']==5]).mean()\n"
     ]
    },
    {
     "data": {
      "text/plain": [
       "Employer_Category2        3.663844\n",
       "Monthly_Income         6574.695328\n",
       "Existing_EMI            308.508494\n",
       "Loan_Amount           49752.897376\n",
       "Loan_Period               5.000000\n",
       "Interest_Rate            17.816237\n",
       "EMI                    1040.967754\n",
       "Var1                      6.072299\n",
       "Approved                  0.020357\n",
       "Age                      38.715847\n",
       "Day_Number               15.062691\n",
       "dtype: float64"
      ]
     },
     "execution_count": 1279,
     "metadata": {},
     "output_type": "execute_result"
    }
   ],
   "source": [
    "(df[df['Loan_Period']==5]).mean()"
   ]
  },
  {
   "cell_type": "code",
   "execution_count": 1280,
   "id": "3e0d8655",
   "metadata": {},
   "outputs": [
    {
     "data": {
      "text/plain": [
       "<AxesSubplot:xlabel='Approved', ylabel='Monthly_Income'>"
      ]
     },
     "execution_count": 1280,
     "metadata": {},
     "output_type": "execute_result"
    },
    {
     "data": {
      "image/png": "[encoded data removed]",
      "text/plain": [
       "<Figure size 640x480 with 1 Axes>"
      ]
     },
     "metadata": {},
     "output_type": "display_data"
    }
   ],
   "source": [
    "sns.barplot(x=df['Approved'],y=df['Monthly_Income'])"
   ]
  },
  {
   "cell_type": "code",
   "execution_count": 1281,
   "id": "5811ed5f",
   "metadata": {},
   "outputs": [
    {
     "data": {
      "text/plain": [
       "<function matplotlib.pyplot.yticks(ticks=None, labels=None, **kwargs)>"
      ]
     },
     "execution_count": 1281,
     "metadata": {},
     "output_type": "execute_result"
    },
    {
     "data": {
      "image/png": "[encoded data removed]",
      "text/plain": [
       "<Figure size 640x480 with 1 Axes>"
      ]
     },
     "metadata": {},
     "output_type": "display_data"
    }
   ],
   "source": [
    "sns.barplot(x=df['Approved'],y=df['Age'])\n",
    "plt.yticks"
   ]
  },
  {
   "cell_type": "code",
   "execution_count": 1282,
   "id": "0682bfa6",
   "metadata": {},
   "outputs": [
    {
     "data": {
      "text/plain": [
       "<AxesSubplot:xlabel='Age', ylabel='count'>"
      ]
     },
     "execution_count": 1282,
     "metadata": {},
     "output_type": "execute_result"
    },
    {
     "data": {
      "image/png": "[encoded data removed]",
      "text/plain": [
       "<Figure size 2500x1000 with 1 Axes>"
      ]
     },
     "metadata": {},
     "output_type": "display_data"
    }
   ],
   "source": [
    "plt.figure(figsize=(25,10))\n",
    "sns.countplot(x=df['Age'],hue=df['Approved'])"
   ]
  },
  {
   "cell_type": "code",
   "execution_count": 1283,
   "id": "0e1d76ac",
   "metadata": {},
   "outputs": [
    {
     "name": "stdout",
     "output_type": "stream",
     "text": [
      "<class 'pandas.core.frame.DataFrame'>\n",
      "Int64Index: 69698 entries, 0 to 69712\n",
      "Data columns (total 25 columns):\n",
      " #   Column                               Non-Null Count  Dtype         \n",
      "---  ------                               --------------  -----         \n",
      " 0   ID                                   69698 non-null  object        \n",
      " 1   Gender                               69698 non-null  object        \n",
      " 2   DOB                                  69698 non-null  datetime64[ns]\n",
      " 3   Lead_Creation_Date                   69698 non-null  datetime64[ns]\n",
      " 4   City_Category                        69698 non-null  object        \n",
      " 5   Employer_Code                        65695 non-null  object        \n",
      " 6   Employer_Category1                   69698 non-null  object        \n",
      " 7   Employer_Category2                   69698 non-null  float64       \n",
      " 8   Monthly_Income                       69698 non-null  float64       \n",
      " 9   Customer_Existing_Primary_Bank_Code  60322 non-null  object        \n",
      " 10  Primary_Bank_Type                    69698 non-null  object        \n",
      " 11  Contacted                            69698 non-null  object        \n",
      " 12  Source                               69698 non-null  object        \n",
      " 13  Source_Category                      69698 non-null  object        \n",
      " 14  Existing_EMI                         69698 non-null  float64       \n",
      " 15  Loan_Amount                          69698 non-null  float64       \n",
      " 16  Loan_Period                          69698 non-null  float64       \n",
      " 17  Interest_Rate                        69698 non-null  float64       \n",
      " 18  EMI                                  69698 non-null  float64       \n",
      " 19  Var1                                 69698 non-null  int64         \n",
      " 20  Approved                             69698 non-null  int64         \n",
      " 21  Age                                  69698 non-null  float64       \n",
      " 22  Day_Name                             69698 non-null  object        \n",
      " 23  Month_Name                           69698 non-null  object        \n",
      " 24  Day_Number                           69698 non-null  int64         \n",
      "dtypes: datetime64[ns](2), float64(8), int64(3), object(12)\n",
      "memory usage: 13.8+ MB\n"
     ]
    }
   ],
   "source": [
    "df.info()"
   ]
  },
  {
   "cell_type": "code",
   "execution_count": 1284,
   "id": "8c5dde7d",
   "metadata": {},
   "outputs": [],
   "source": [
    "df = df.drop(['ID','DOB','Lead_Creation_Date','Gender','City_Category','Employer_Category1','Primary_Bank_Type','Contacted','Source',\n",
    "        'Source_Category','Day_Name','Month_Name'],axis=1)"
   ]
  },
  {
   "cell_type": "code",
   "execution_count": 1285,
   "id": "9cde0b02",
   "metadata": {},
   "outputs": [
    {
     "name": "stdout",
     "output_type": "stream",
     "text": [
      "<class 'pandas.core.frame.DataFrame'>\n",
      "Int64Index: 69698 entries, 0 to 69712\n",
      "Data columns (total 13 columns):\n",
      " #   Column                               Non-Null Count  Dtype  \n",
      "---  ------                               --------------  -----  \n",
      " 0   Employer_Code                        65695 non-null  object \n",
      " 1   Employer_Category2                   69698 non-null  float64\n",
      " 2   Monthly_Income                       69698 non-null  float64\n",
      " 3   Customer_Existing_Primary_Bank_Code  60322 non-null  object \n",
      " 4   Existing_EMI                         69698 non-null  float64\n",
      " 5   Loan_Amount                          69698 non-null  float64\n",
      " 6   Loan_Period                          69698 non-null  float64\n",
      " 7   Interest_Rate                        69698 non-null  float64\n",
      " 8   EMI                                  69698 non-null  float64\n",
      " 9   Var1                                 69698 non-null  int64  \n",
      " 10  Approved                             69698 non-null  int64  \n",
      " 11  Age                                  69698 non-null  float64\n",
      " 12  Day_Number                           69698 non-null  int64  \n",
      "dtypes: float64(8), int64(3), object(2)\n",
      "memory usage: 7.4+ MB\n"
     ]
    }
   ],
   "source": [
    "df.info()"
   ]
  },
  {
   "cell_type": "code",
   "execution_count": 1286,
   "id": "314295e0",
   "metadata": {},
   "outputs": [
    {
     "data": {
      "text/html": [
       "<div>\n",
       "<style scoped>\n",
       "    .dataframe tbody tr th:only-of-type {\n",
       "        vertical-align: middle;\n",
       "    }\n",
       "\n",
       "    .dataframe tbody tr th {\n",
       "        vertical-align: top;\n",
       "    }\n",
       "\n",
       "    .dataframe thead th {\n",
       "        text-align: right;\n",
       "    }\n",
       "</style>\n",
       "<table border=\"1\" class=\"dataframe\">\n",
       "  <thead>\n",
       "    <tr style=\"text-align: right;\">\n",
       "      <th></th>\n",
       "      <th>Gender_Male</th>\n",
       "      <th>City_Category_B</th>\n",
       "      <th>City_Category_C</th>\n",
       "      <th>Employer_Category1_B</th>\n",
       "      <th>Employer_Category1_C</th>\n",
       "      <th>Primary_Bank_Type_P</th>\n",
       "      <th>Contacted_Y</th>\n",
       "      <th>Day_Name_Monday</th>\n",
       "      <th>Day_Name_Saturday</th>\n",
       "      <th>Day_Name_Sunday</th>\n",
       "      <th>...</th>\n",
       "      <th>Day_Name_Tuesday</th>\n",
       "      <th>Day_Name_Wednesday</th>\n",
       "      <th>Month_Name_July</th>\n",
       "      <th>Month_Name_September</th>\n",
       "      <th>Source_Category_B</th>\n",
       "      <th>Source_Category_C</th>\n",
       "      <th>Source_Category_D</th>\n",
       "      <th>Source_Category_E</th>\n",
       "      <th>Source_Category_F</th>\n",
       "      <th>Source_Category_G</th>\n",
       "    </tr>\n",
       "  </thead>\n",
       "  <tbody>\n",
       "    <tr>\n",
       "      <th>0</th>\n",
       "      <td>0</td>\n",
       "      <td>0</td>\n",
       "      <td>0</td>\n",
       "      <td>0</td>\n",
       "      <td>0</td>\n",
       "      <td>1</td>\n",
       "      <td>0</td>\n",
       "      <td>0</td>\n",
       "      <td>0</td>\n",
       "      <td>0</td>\n",
       "      <td>...</td>\n",
       "      <td>0</td>\n",
       "      <td>0</td>\n",
       "      <td>1</td>\n",
       "      <td>0</td>\n",
       "      <td>0</td>\n",
       "      <td>0</td>\n",
       "      <td>0</td>\n",
       "      <td>0</td>\n",
       "      <td>0</td>\n",
       "      <td>1</td>\n",
       "    </tr>\n",
       "    <tr>\n",
       "      <th>1</th>\n",
       "      <td>1</td>\n",
       "      <td>0</td>\n",
       "      <td>0</td>\n",
       "      <td>0</td>\n",
       "      <td>1</td>\n",
       "      <td>1</td>\n",
       "      <td>1</td>\n",
       "      <td>1</td>\n",
       "      <td>0</td>\n",
       "      <td>0</td>\n",
       "      <td>...</td>\n",
       "      <td>0</td>\n",
       "      <td>0</td>\n",
       "      <td>1</td>\n",
       "      <td>0</td>\n",
       "      <td>0</td>\n",
       "      <td>0</td>\n",
       "      <td>0</td>\n",
       "      <td>0</td>\n",
       "      <td>0</td>\n",
       "      <td>1</td>\n",
       "    </tr>\n",
       "    <tr>\n",
       "      <th>2</th>\n",
       "      <td>1</td>\n",
       "      <td>0</td>\n",
       "      <td>1</td>\n",
       "      <td>0</td>\n",
       "      <td>1</td>\n",
       "      <td>0</td>\n",
       "      <td>1</td>\n",
       "      <td>0</td>\n",
       "      <td>0</td>\n",
       "      <td>0</td>\n",
       "      <td>...</td>\n",
       "      <td>1</td>\n",
       "      <td>0</td>\n",
       "      <td>1</td>\n",
       "      <td>0</td>\n",
       "      <td>1</td>\n",
       "      <td>0</td>\n",
       "      <td>0</td>\n",
       "      <td>0</td>\n",
       "      <td>0</td>\n",
       "      <td>0</td>\n",
       "    </tr>\n",
       "    <tr>\n",
       "      <th>3</th>\n",
       "      <td>1</td>\n",
       "      <td>0</td>\n",
       "      <td>1</td>\n",
       "      <td>0</td>\n",
       "      <td>0</td>\n",
       "      <td>0</td>\n",
       "      <td>1</td>\n",
       "      <td>0</td>\n",
       "      <td>1</td>\n",
       "      <td>0</td>\n",
       "      <td>...</td>\n",
       "      <td>0</td>\n",
       "      <td>0</td>\n",
       "      <td>1</td>\n",
       "      <td>0</td>\n",
       "      <td>1</td>\n",
       "      <td>0</td>\n",
       "      <td>0</td>\n",
       "      <td>0</td>\n",
       "      <td>0</td>\n",
       "      <td>0</td>\n",
       "    </tr>\n",
       "    <tr>\n",
       "      <th>4</th>\n",
       "      <td>1</td>\n",
       "      <td>0</td>\n",
       "      <td>0</td>\n",
       "      <td>0</td>\n",
       "      <td>0</td>\n",
       "      <td>1</td>\n",
       "      <td>1</td>\n",
       "      <td>0</td>\n",
       "      <td>0</td>\n",
       "      <td>0</td>\n",
       "      <td>...</td>\n",
       "      <td>0</td>\n",
       "      <td>1</td>\n",
       "      <td>1</td>\n",
       "      <td>0</td>\n",
       "      <td>1</td>\n",
       "      <td>0</td>\n",
       "      <td>0</td>\n",
       "      <td>0</td>\n",
       "      <td>0</td>\n",
       "      <td>0</td>\n",
       "    </tr>\n",
       "    <tr>\n",
       "      <th>...</th>\n",
       "      <td>...</td>\n",
       "      <td>...</td>\n",
       "      <td>...</td>\n",
       "      <td>...</td>\n",
       "      <td>...</td>\n",
       "      <td>...</td>\n",
       "      <td>...</td>\n",
       "      <td>...</td>\n",
       "      <td>...</td>\n",
       "      <td>...</td>\n",
       "      <td>...</td>\n",
       "      <td>...</td>\n",
       "      <td>...</td>\n",
       "      <td>...</td>\n",
       "      <td>...</td>\n",
       "      <td>...</td>\n",
       "      <td>...</td>\n",
       "      <td>...</td>\n",
       "      <td>...</td>\n",
       "      <td>...</td>\n",
       "      <td>...</td>\n",
       "    </tr>\n",
       "    <tr>\n",
       "      <th>69708</th>\n",
       "      <td>0</td>\n",
       "      <td>0</td>\n",
       "      <td>0</td>\n",
       "      <td>0</td>\n",
       "      <td>0</td>\n",
       "      <td>1</td>\n",
       "      <td>0</td>\n",
       "      <td>0</td>\n",
       "      <td>0</td>\n",
       "      <td>0</td>\n",
       "      <td>...</td>\n",
       "      <td>0</td>\n",
       "      <td>0</td>\n",
       "      <td>0</td>\n",
       "      <td>1</td>\n",
       "      <td>0</td>\n",
       "      <td>0</td>\n",
       "      <td>0</td>\n",
       "      <td>0</td>\n",
       "      <td>0</td>\n",
       "      <td>1</td>\n",
       "    </tr>\n",
       "    <tr>\n",
       "      <th>69709</th>\n",
       "      <td>0</td>\n",
       "      <td>0</td>\n",
       "      <td>1</td>\n",
       "      <td>0</td>\n",
       "      <td>0</td>\n",
       "      <td>1</td>\n",
       "      <td>0</td>\n",
       "      <td>0</td>\n",
       "      <td>0</td>\n",
       "      <td>0</td>\n",
       "      <td>...</td>\n",
       "      <td>0</td>\n",
       "      <td>0</td>\n",
       "      <td>0</td>\n",
       "      <td>1</td>\n",
       "      <td>0</td>\n",
       "      <td>0</td>\n",
       "      <td>0</td>\n",
       "      <td>0</td>\n",
       "      <td>0</td>\n",
       "      <td>1</td>\n",
       "    </tr>\n",
       "    <tr>\n",
       "      <th>69710</th>\n",
       "      <td>0</td>\n",
       "      <td>1</td>\n",
       "      <td>0</td>\n",
       "      <td>0</td>\n",
       "      <td>1</td>\n",
       "      <td>1</td>\n",
       "      <td>1</td>\n",
       "      <td>0</td>\n",
       "      <td>0</td>\n",
       "      <td>0</td>\n",
       "      <td>...</td>\n",
       "      <td>0</td>\n",
       "      <td>0</td>\n",
       "      <td>0</td>\n",
       "      <td>1</td>\n",
       "      <td>0</td>\n",
       "      <td>0</td>\n",
       "      <td>0</td>\n",
       "      <td>0</td>\n",
       "      <td>0</td>\n",
       "      <td>1</td>\n",
       "    </tr>\n",
       "    <tr>\n",
       "      <th>69711</th>\n",
       "      <td>1</td>\n",
       "      <td>0</td>\n",
       "      <td>0</td>\n",
       "      <td>0</td>\n",
       "      <td>1</td>\n",
       "      <td>1</td>\n",
       "      <td>1</td>\n",
       "      <td>0</td>\n",
       "      <td>0</td>\n",
       "      <td>0</td>\n",
       "      <td>...</td>\n",
       "      <td>0</td>\n",
       "      <td>0</td>\n",
       "      <td>0</td>\n",
       "      <td>1</td>\n",
       "      <td>0</td>\n",
       "      <td>0</td>\n",
       "      <td>0</td>\n",
       "      <td>0</td>\n",
       "      <td>0</td>\n",
       "      <td>1</td>\n",
       "    </tr>\n",
       "    <tr>\n",
       "      <th>69712</th>\n",
       "      <td>1</td>\n",
       "      <td>0</td>\n",
       "      <td>0</td>\n",
       "      <td>0</td>\n",
       "      <td>0</td>\n",
       "      <td>1</td>\n",
       "      <td>1</td>\n",
       "      <td>0</td>\n",
       "      <td>0</td>\n",
       "      <td>0</td>\n",
       "      <td>...</td>\n",
       "      <td>0</td>\n",
       "      <td>0</td>\n",
       "      <td>0</td>\n",
       "      <td>1</td>\n",
       "      <td>0</td>\n",
       "      <td>0</td>\n",
       "      <td>0</td>\n",
       "      <td>0</td>\n",
       "      <td>0</td>\n",
       "      <td>1</td>\n",
       "    </tr>\n",
       "  </tbody>\n",
       "</table>\n",
       "<p>69698 rows × 21 columns</p>\n",
       "</div>"
      ],
      "text/plain": [
       "       Gender_Male  City_Category_B  City_Category_C  Employer_Category1_B  \\\n",
       "0                0                0                0                     0   \n",
       "1                1                0                0                     0   \n",
       "2                1                0                1                     0   \n",
       "3                1                0                1                     0   \n",
       "4                1                0                0                     0   \n",
       "...            ...              ...              ...                   ...   \n",
       "69708            0                0                0                     0   \n",
       "69709            0                0                1                     0   \n",
       "69710            0                1                0                     0   \n",
       "69711            1                0                0                     0   \n",
       "69712            1                0                0                     0   \n",
       "\n",
       "       Employer_Category1_C  Primary_Bank_Type_P  Contacted_Y  \\\n",
       "0                         0                    1            0   \n",
       "1                         1                    1            1   \n",
       "2                         1                    0            1   \n",
       "3                         0                    0            1   \n",
       "4                         0                    1            1   \n",
       "...                     ...                  ...          ...   \n",
       "69708                     0                    1            0   \n",
       "69709                     0                    1            0   \n",
       "69710                     1                    1            1   \n",
       "69711                     1                    1            1   \n",
       "69712                     0                    1            1   \n",
       "\n",
       "       Day_Name_Monday  Day_Name_Saturday  Day_Name_Sunday  ...  \\\n",
       "0                    0                  0                0  ...   \n",
       "1                    1                  0                0  ...   \n",
       "2                    0                  0                0  ...   \n",
       "3                    0                  1                0  ...   \n",
       "4                    0                  0                0  ...   \n",
       "...                ...                ...              ...  ...   \n",
       "69708                0                  0                0  ...   \n",
       "69709                0                  0                0  ...   \n",
       "69710                0                  0                0  ...   \n",
       "69711                0                  0                0  ...   \n",
       "69712                0                  0                0  ...   \n",
       "\n",
       "       Day_Name_Tuesday  Day_Name_Wednesday  Month_Name_July  \\\n",
       "0                     0                   0                1   \n",
       "1                     0                   0                1   \n",
       "2                     1                   0                1   \n",
       "3                     0                   0                1   \n",
       "4                     0                   1                1   \n",
       "...                 ...                 ...              ...   \n",
       "69708                 0                   0                0   \n",
       "69709                 0                   0                0   \n",
       "69710                 0                   0                0   \n",
       "69711                 0                   0                0   \n",
       "69712                 0                   0                0   \n",
       "\n",
       "       Month_Name_September  Source_Category_B  Source_Category_C  \\\n",
       "0                         0                  0                  0   \n",
       "1                         0                  0                  0   \n",
       "2                         0                  1                  0   \n",
       "3                         0                  1                  0   \n",
       "4                         0                  1                  0   \n",
       "...                     ...                ...                ...   \n",
       "69708                     1                  0                  0   \n",
       "69709                     1                  0                  0   \n",
       "69710                     1                  0                  0   \n",
       "69711                     1                  0                  0   \n",
       "69712                     1                  0                  0   \n",
       "\n",
       "       Source_Category_D  Source_Category_E  Source_Category_F  \\\n",
       "0                      0                  0                  0   \n",
       "1                      0                  0                  0   \n",
       "2                      0                  0                  0   \n",
       "3                      0                  0                  0   \n",
       "4                      0                  0                  0   \n",
       "...                  ...                ...                ...   \n",
       "69708                  0                  0                  0   \n",
       "69709                  0                  0                  0   \n",
       "69710                  0                  0                  0   \n",
       "69711                  0                  0                  0   \n",
       "69712                  0                  0                  0   \n",
       "\n",
       "       Source_Category_G  \n",
       "0                      1  \n",
       "1                      1  \n",
       "2                      0  \n",
       "3                      0  \n",
       "4                      0  \n",
       "...                  ...  \n",
       "69708                  1  \n",
       "69709                  1  \n",
       "69710                  1  \n",
       "69711                  1  \n",
       "69712                  1  \n",
       "\n",
       "[69698 rows x 21 columns]"
      ]
     },
     "execution_count": 1286,
     "metadata": {},
     "output_type": "execute_result"
    }
   ],
   "source": [
    "dummies"
   ]
  },
  {
   "cell_type": "code",
   "execution_count": 1287,
   "id": "dc80150d",
   "metadata": {},
   "outputs": [],
   "source": [
    "df = pd.concat([df,dummies],axis=1)"
   ]
  },
  {
   "cell_type": "code",
   "execution_count": 1288,
   "id": "7b3cbe58",
   "metadata": {},
   "outputs": [
    {
     "name": "stdout",
     "output_type": "stream",
     "text": [
      "<class 'pandas.core.frame.DataFrame'>\n",
      "Int64Index: 69698 entries, 0 to 69712\n",
      "Data columns (total 34 columns):\n",
      " #   Column                               Non-Null Count  Dtype  \n",
      "---  ------                               --------------  -----  \n",
      " 0   Employer_Code                        65695 non-null  object \n",
      " 1   Employer_Category2                   69698 non-null  float64\n",
      " 2   Monthly_Income                       69698 non-null  float64\n",
      " 3   Customer_Existing_Primary_Bank_Code  60322 non-null  object \n",
      " 4   Existing_EMI                         69698 non-null  float64\n",
      " 5   Loan_Amount                          69698 non-null  float64\n",
      " 6   Loan_Period                          69698 non-null  float64\n",
      " 7   Interest_Rate                        69698 non-null  float64\n",
      " 8   EMI                                  69698 non-null  float64\n",
      " 9   Var1                                 69698 non-null  int64  \n",
      " 10  Approved                             69698 non-null  int64  \n",
      " 11  Age                                  69698 non-null  float64\n",
      " 12  Day_Number                           69698 non-null  int64  \n",
      " 13  Gender_Male                          69698 non-null  uint8  \n",
      " 14  City_Category_B                      69698 non-null  uint8  \n",
      " 15  City_Category_C                      69698 non-null  uint8  \n",
      " 16  Employer_Category1_B                 69698 non-null  uint8  \n",
      " 17  Employer_Category1_C                 69698 non-null  uint8  \n",
      " 18  Primary_Bank_Type_P                  69698 non-null  uint8  \n",
      " 19  Contacted_Y                          69698 non-null  uint8  \n",
      " 20  Day_Name_Monday                      69698 non-null  uint8  \n",
      " 21  Day_Name_Saturday                    69698 non-null  uint8  \n",
      " 22  Day_Name_Sunday                      69698 non-null  uint8  \n",
      " 23  Day_Name_Thursday                    69698 non-null  uint8  \n",
      " 24  Day_Name_Tuesday                     69698 non-null  uint8  \n",
      " 25  Day_Name_Wednesday                   69698 non-null  uint8  \n",
      " 26  Month_Name_July                      69698 non-null  uint8  \n",
      " 27  Month_Name_September                 69698 non-null  uint8  \n",
      " 28  Source_Category_B                    69698 non-null  uint8  \n",
      " 29  Source_Category_C                    69698 non-null  uint8  \n",
      " 30  Source_Category_D                    69698 non-null  uint8  \n",
      " 31  Source_Category_E                    69698 non-null  uint8  \n",
      " 32  Source_Category_F                    69698 non-null  uint8  \n",
      " 33  Source_Category_G                    69698 non-null  uint8  \n",
      "dtypes: float64(8), int64(3), object(2), uint8(21)\n",
      "memory usage: 8.8+ MB\n"
     ]
    }
   ],
   "source": [
    "df.info()"
   ]
  },
  {
   "cell_type": "code",
   "execution_count": 1289,
   "id": "5caba644",
   "metadata": {},
   "outputs": [],
   "source": [
    "df = df.drop(['Employer_Code','Customer_Existing_Primary_Bank_Code'],axis=1)"
   ]
  },
  {
   "cell_type": "code",
   "execution_count": 1290,
   "id": "186a54ba",
   "metadata": {},
   "outputs": [
    {
     "name": "stdout",
     "output_type": "stream",
     "text": [
      "<class 'pandas.core.frame.DataFrame'>\n",
      "Int64Index: 69698 entries, 0 to 69712\n",
      "Data columns (total 32 columns):\n",
      " #   Column                Non-Null Count  Dtype  \n",
      "---  ------                --------------  -----  \n",
      " 0   Employer_Category2    69698 non-null  float64\n",
      " 1   Monthly_Income        69698 non-null  float64\n",
      " 2   Existing_EMI          69698 non-null  float64\n",
      " 3   Loan_Amount           69698 non-null  float64\n",
      " 4   Loan_Period           69698 non-null  float64\n",
      " 5   Interest_Rate         69698 non-null  float64\n",
      " 6   EMI                   69698 non-null  float64\n",
      " 7   Var1                  69698 non-null  int64  \n",
      " 8   Approved              69698 non-null  int64  \n",
      " 9   Age                   69698 non-null  float64\n",
      " 10  Day_Number            69698 non-null  int64  \n",
      " 11  Gender_Male           69698 non-null  uint8  \n",
      " 12  City_Category_B       69698 non-null  uint8  \n",
      " 13  City_Category_C       69698 non-null  uint8  \n",
      " 14  Employer_Category1_B  69698 non-null  uint8  \n",
      " 15  Employer_Category1_C  69698 non-null  uint8  \n",
      " 16  Primary_Bank_Type_P   69698 non-null  uint8  \n",
      " 17  Contacted_Y           69698 non-null  uint8  \n",
      " 18  Day_Name_Monday       69698 non-null  uint8  \n",
      " 19  Day_Name_Saturday     69698 non-null  uint8  \n",
      " 20  Day_Name_Sunday       69698 non-null  uint8  \n",
      " 21  Day_Name_Thursday     69698 non-null  uint8  \n",
      " 22  Day_Name_Tuesday      69698 non-null  uint8  \n",
      " 23  Day_Name_Wednesday    69698 non-null  uint8  \n",
      " 24  Month_Name_July       69698 non-null  uint8  \n",
      " 25  Month_Name_September  69698 non-null  uint8  \n",
      " 26  Source_Category_B     69698 non-null  uint8  \n",
      " 27  Source_Category_C     69698 non-null  uint8  \n",
      " 28  Source_Category_D     69698 non-null  uint8  \n",
      " 29  Source_Category_E     69698 non-null  uint8  \n",
      " 30  Source_Category_F     69698 non-null  uint8  \n",
      " 31  Source_Category_G     69698 non-null  uint8  \n",
      "dtypes: float64(8), int64(3), uint8(21)\n",
      "memory usage: 7.8 MB\n"
     ]
    }
   ],
   "source": [
    "df.info()"
   ]
  },
  {
   "cell_type": "code",
   "execution_count": 1291,
   "id": "fbf96b61",
   "metadata": {},
   "outputs": [],
   "source": [
    "from sklearn.preprocessing import StandardScaler"
   ]
  },
  {
   "cell_type": "code",
   "execution_count": 1292,
   "id": "5c306a6e",
   "metadata": {},
   "outputs": [],
   "source": [
    "scaler = StandardScaler()"
   ]
  },
  {
   "cell_type": "code",
   "execution_count": 1293,
   "id": "bb0f7311",
   "metadata": {},
   "outputs": [],
   "source": [
    "from sklearn. model_selection import train_test_split"
   ]
  },
  {
   "cell_type": "code",
   "execution_count": 1294,
   "id": "2e1f3218",
   "metadata": {},
   "outputs": [],
   "source": [
    "X = df.drop('Approved',axis=1)\n",
    "y= df['Approved']"
   ]
  },
  {
   "cell_type": "code",
   "execution_count": 1295,
   "id": "2f4d96d2",
   "metadata": {},
   "outputs": [
    {
     "data": {
      "text/plain": [
       "<function sklearn.model_selection._split.train_test_split(*arrays, test_size=None, train_size=None, random_state=None, shuffle=True, stratify=None)>"
      ]
     },
     "execution_count": 1295,
     "metadata": {},
     "output_type": "execute_result"
    }
   ],
   "source": [
    "train_test_split"
   ]
  },
  {
   "cell_type": "code",
   "execution_count": 1296,
   "id": "1aba6167",
   "metadata": {},
   "outputs": [],
   "source": [
    "X_train, X_test, y_train, y_test = train_test_split(X, y, test_size=0.3, random_state=101)"
   ]
  },
  {
   "cell_type": "code",
   "execution_count": 1297,
   "id": "91c7fb5e",
   "metadata": {},
   "outputs": [],
   "source": [
    "X_train = scaler.fit_transform(X_train)"
   ]
  },
  {
   "cell_type": "code",
   "execution_count": 1298,
   "id": "185e9fda",
   "metadata": {},
   "outputs": [],
   "source": [
    "X_test = scaler.transform(X_test)"
   ]
  },
  {
   "cell_type": "code",
   "execution_count": 1299,
   "id": "c3f5bd02",
   "metadata": {},
   "outputs": [],
   "source": [
    "from sklearn.linear_model import LogisticRegression"
   ]
  },
  {
   "cell_type": "code",
   "execution_count": 1300,
   "id": "82b6b6d2",
   "metadata": {},
   "outputs": [],
   "source": [
    "model = LogisticRegression()"
   ]
  },
  {
   "cell_type": "code",
   "execution_count": 1301,
   "id": "db41b5c0",
   "metadata": {},
   "outputs": [
    {
     "data": {
      "text/plain": [
       "LogisticRegression()"
      ]
     },
     "execution_count": 1301,
     "metadata": {},
     "output_type": "execute_result"
    }
   ],
   "source": [
    "model.fit(X_train,y_train)"
   ]
  },
  {
   "cell_type": "code",
   "execution_count": 1302,
   "id": "4a04d838",
   "metadata": {},
   "outputs": [],
   "source": [
    "predictions = model.predict(X_test)"
   ]
  },
  {
   "cell_type": "code",
   "execution_count": 1303,
   "id": "daf13274",
   "metadata": {},
   "outputs": [],
   "source": [
    "from sklearn.metrics import classification_report,confusion_matrix"
   ]
  },
  {
   "cell_type": "code",
   "execution_count": 1304,
   "id": "3210cb72",
   "metadata": {},
   "outputs": [
    {
     "name": "stdout",
     "output_type": "stream",
     "text": [
      "              precision    recall  f1-score   support\n",
      "\n",
      "           0       0.99      1.00      0.99     20598\n",
      "           1       0.00      0.00      0.00       312\n",
      "\n",
      "    accuracy                           0.99     20910\n",
      "   macro avg       0.49      0.50      0.50     20910\n",
      "weighted avg       0.97      0.99      0.98     20910\n",
      "\n",
      "[[20597     1]\n",
      " [  312     0]]\n"
     ]
    }
   ],
   "source": [
    "print(classification_report(y_test,predictions))\n",
    "print(confusion_matrix(y_test,predictions))"
   ]
  },
  {
   "cell_type": "code",
   "execution_count": 1305,
   "id": "a3be4dd4",
   "metadata": {},
   "outputs": [
    {
     "data": {
      "text/plain": [
       "0    68678\n",
       "1     1020\n",
       "Name: Approved, dtype: int64"
      ]
     },
     "execution_count": 1305,
     "metadata": {},
     "output_type": "execute_result"
    }
   ],
   "source": [
    "df['Approved'].value_counts()"
   ]
  },
  {
   "cell_type": "code",
   "execution_count": 1306,
   "id": "2e0359d8",
   "metadata": {},
   "outputs": [],
   "source": [
    "Approved_percentage = (1020/68678)*100\n"
   ]
  },
  {
   "cell_type": "code",
   "execution_count": 1307,
   "id": "28f6fd06",
   "metadata": {},
   "outputs": [
    {
     "data": {
      "text/plain": [
       "1.485191764466059"
      ]
     },
     "execution_count": 1307,
     "metadata": {},
     "output_type": "execute_result"
    }
   ],
   "source": [
    "Approved_percentage"
   ]
  },
  {
   "cell_type": "code",
   "execution_count": 1308,
   "id": "61cf77a8",
   "metadata": {},
   "outputs": [],
   "source": [
    "from imblearn.over_sampling import SMOTE"
   ]
  },
  {
   "cell_type": "code",
   "execution_count": 1309,
   "id": "28aa44cb",
   "metadata": {},
   "outputs": [],
   "source": [
    "smote=SMOTE()\n",
    "X_train_smote ,y_train_smote=smote.fit_resample(X_train,y_train)"
   ]
  },
  {
   "cell_type": "code",
   "execution_count": 1310,
   "id": "dbb57509",
   "metadata": {},
   "outputs": [
    {
     "data": {
      "text/plain": [
       "0    48080\n",
       "1    48080\n",
       "Name: Approved, dtype: int64"
      ]
     },
     "execution_count": 1310,
     "metadata": {},
     "output_type": "execute_result"
    }
   ],
   "source": [
    "y_train_smote.value_counts()\n"
   ]
  },
  {
   "cell_type": "code",
   "execution_count": 1311,
   "id": "619022e0",
   "metadata": {},
   "outputs": [],
   "source": [
    "model_smote = LogisticRegression()"
   ]
  },
  {
   "cell_type": "code",
   "execution_count": 1312,
   "id": "7825e99e",
   "metadata": {},
   "outputs": [
    {
     "data": {
      "text/plain": [
       "LogisticRegression()"
      ]
     },
     "execution_count": 1312,
     "metadata": {},
     "output_type": "execute_result"
    }
   ],
   "source": [
    "model_smote.fit(X_train_smote,y_train_smote)"
   ]
  },
  {
   "cell_type": "code",
   "execution_count": 1313,
   "id": "c67c4c22",
   "metadata": {},
   "outputs": [],
   "source": [
    "smote_predictions = model_smote.predict(X_test)"
   ]
  },
  {
   "cell_type": "code",
   "execution_count": 1314,
   "id": "efafd6a2",
   "metadata": {},
   "outputs": [
    {
     "name": "stdout",
     "output_type": "stream",
     "text": [
      "              precision    recall  f1-score   support\n",
      "\n",
      "           0       0.99      0.72      0.84     20598\n",
      "           1       0.04      0.72      0.07       312\n",
      "\n",
      "    accuracy                           0.72     20910\n",
      "   macro avg       0.52      0.72      0.45     20910\n",
      "weighted avg       0.98      0.72      0.83     20910\n",
      "\n",
      "[[14897  5701]\n",
      " [   86   226]]\n"
     ]
    }
   ],
   "source": [
    "print(classification_report(y_test,smote_predictions))\n",
    "print(confusion_matrix(y_test,smote_predictions))"
   ]
  },
  {
   "cell_type": "code",
   "execution_count": 1315,
   "id": "9116ad96",
   "metadata": {},
   "outputs": [],
   "source": [
    "# new model"
   ]
  },
  {
   "cell_type": "code",
   "execution_count": 1316,
   "id": "6342ff81",
   "metadata": {},
   "outputs": [
    {
     "data": {
      "text/plain": [
       "Index(['Employer_Category2', 'Monthly_Income', 'Existing_EMI', 'Loan_Amount',\n",
       "       'Loan_Period', 'Interest_Rate', 'EMI', 'Var1', 'Approved', 'Age',\n",
       "       'Day_Number', 'Gender_Male', 'City_Category_B', 'City_Category_C',\n",
       "       'Employer_Category1_B', 'Employer_Category1_C', 'Primary_Bank_Type_P',\n",
       "       'Contacted_Y', 'Day_Name_Monday', 'Day_Name_Saturday',\n",
       "       'Day_Name_Sunday', 'Day_Name_Thursday', 'Day_Name_Tuesday',\n",
       "       'Day_Name_Wednesday', 'Month_Name_July', 'Month_Name_September',\n",
       "       'Source_Category_B', 'Source_Category_C', 'Source_Category_D',\n",
       "       'Source_Category_E', 'Source_Category_F', 'Source_Category_G'],\n",
       "      dtype='object')"
      ]
     },
     "execution_count": 1316,
     "metadata": {},
     "output_type": "execute_result"
    }
   ],
   "source": [
    "df.columns"
   ]
  },
  {
   "cell_type": "code",
   "execution_count": 1317,
   "id": "3094727d",
   "metadata": {},
   "outputs": [],
   "source": [
    "df = df.drop(['Day_Number','Day_Name_Monday','Day_Name_Saturday',\n",
    "       'Day_Name_Sunday', 'Day_Name_Thursday', 'Day_Name_Tuesday',\n",
    "       'Day_Name_Wednesday'],axis=1)"
   ]
  },
  {
   "cell_type": "code",
   "execution_count": 1318,
   "id": "354e2398",
   "metadata": {},
   "outputs": [
    {
     "data": {
      "text/plain": [
       "Index(['Employer_Category2', 'Monthly_Income', 'Existing_EMI', 'Loan_Amount',\n",
       "       'Loan_Period', 'Interest_Rate', 'EMI', 'Var1', 'Approved', 'Age',\n",
       "       'Gender_Male', 'City_Category_B', 'City_Category_C',\n",
       "       'Employer_Category1_B', 'Employer_Category1_C', 'Primary_Bank_Type_P',\n",
       "       'Contacted_Y', 'Month_Name_July', 'Month_Name_September',\n",
       "       'Source_Category_B', 'Source_Category_C', 'Source_Category_D',\n",
       "       'Source_Category_E', 'Source_Category_F', 'Source_Category_G'],\n",
       "      dtype='object')"
      ]
     },
     "execution_count": 1318,
     "metadata": {},
     "output_type": "execute_result"
    }
   ],
   "source": [
    "df.columns"
   ]
  },
  {
   "cell_type": "code",
   "execution_count": 1319,
   "id": "1b168edb",
   "metadata": {},
   "outputs": [
    {
     "data": {
      "text/plain": [
       "(69698, 25)"
      ]
     },
     "execution_count": 1319,
     "metadata": {},
     "output_type": "execute_result"
    }
   ],
   "source": [
    "df.shape"
   ]
  },
  {
   "cell_type": "code",
   "execution_count": 1320,
   "id": "68626306",
   "metadata": {},
   "outputs": [
    {
     "data": {
      "text/plain": [
       "0    48080\n",
       "1    48080\n",
       "Name: Approved, dtype: int64"
      ]
     },
     "execution_count": 1320,
     "metadata": {},
     "output_type": "execute_result"
    }
   ],
   "source": [
    "y_train_smote.value_counts()\n"
   ]
  },
  {
   "cell_type": "code",
   "execution_count": 1321,
   "id": "254db4bb",
   "metadata": {},
   "outputs": [
    {
     "data": {
      "text/plain": [
       "(48788, 31)"
      ]
     },
     "execution_count": 1321,
     "metadata": {},
     "output_type": "execute_result"
    }
   ],
   "source": [
    "X_train.shape"
   ]
  },
  {
   "cell_type": "code",
   "execution_count": 1322,
   "id": "41e9d3e6",
   "metadata": {},
   "outputs": [],
   "source": [
    "X = df.drop('Approved',axis=1)\n",
    "y= df['Approved']"
   ]
  },
  {
   "cell_type": "code",
   "execution_count": 1323,
   "id": "124992ea",
   "metadata": {},
   "outputs": [],
   "source": [
    "X_train, X_test, y_train, y_test = train_test_split(X, y, test_size=0.3, random_state=101)"
   ]
  },
  {
   "cell_type": "code",
   "execution_count": 1324,
   "id": "516c9078",
   "metadata": {},
   "outputs": [],
   "source": [
    "X_train = scaler.fit_transform(X_train)"
   ]
  },
  {
   "cell_type": "code",
   "execution_count": 1325,
   "id": "3c0b0f61",
   "metadata": {},
   "outputs": [],
   "source": [
    "X_test = scaler.transform(X_test)"
   ]
  },
  {
   "cell_type": "code",
   "execution_count": 1326,
   "id": "6d62ba3f",
   "metadata": {},
   "outputs": [
    {
     "data": {
      "text/plain": [
       "(48788, 24)"
      ]
     },
     "execution_count": 1326,
     "metadata": {},
     "output_type": "execute_result"
    }
   ],
   "source": [
    "X_train.shape"
   ]
  },
  {
   "cell_type": "code",
   "execution_count": 1327,
   "id": "cf5199d6",
   "metadata": {},
   "outputs": [
    {
     "data": {
      "text/plain": [
       "0    68678\n",
       "1     1020\n",
       "Name: Approved, dtype: int64"
      ]
     },
     "execution_count": 1327,
     "metadata": {},
     "output_type": "execute_result"
    }
   ],
   "source": [
    "df['Approved'].value_counts()"
   ]
  },
  {
   "cell_type": "code",
   "execution_count": 1328,
   "id": "9867dd9a",
   "metadata": {},
   "outputs": [],
   "source": [
    "smote=SMOTE()\n",
    "X_train_smote ,y_train_smote=smote.fit_resample(X_train,y_train)"
   ]
  },
  {
   "cell_type": "code",
   "execution_count": 1329,
   "id": "8de21e36",
   "metadata": {},
   "outputs": [
    {
     "data": {
      "text/plain": [
       "0    48080\n",
       "1    48080\n",
       "Name: Approved, dtype: int64"
      ]
     },
     "execution_count": 1329,
     "metadata": {},
     "output_type": "execute_result"
    }
   ],
   "source": [
    "y_train_smote.value_counts()\n"
   ]
  },
  {
   "cell_type": "code",
   "execution_count": 1330,
   "id": "887d0235",
   "metadata": {},
   "outputs": [],
   "source": [
    "model_smote = LogisticRegression()"
   ]
  },
  {
   "cell_type": "code",
   "execution_count": 1331,
   "id": "ae6a4b6f",
   "metadata": {},
   "outputs": [
    {
     "name": "stderr",
     "output_type": "stream",
     "text": [
      "C:\\Users\\MAYUR\\anaconda3\\lib\\site-packages\\sklearn\\linear_model\\_logistic.py:814: ConvergenceWarning: lbfgs failed to converge (status=1):\n",
      "STOP: TOTAL NO. of ITERATIONS REACHED LIMIT.\n",
      "\n",
      "Increase the number of iterations (max_iter) or scale the data as shown in:\n",
      "    https://scikit-learn.org/stable/modules/preprocessing.html\n",
      "Please also refer to the documentation for alternative solver options:\n",
      "    https://scikit-learn.org/stable/modules/linear_model.html#logistic-regression\n",
      "  n_iter_i = _check_optimize_result(\n"
     ]
    },
    {
     "data": {
      "text/plain": [
       "LogisticRegression()"
      ]
     },
     "execution_count": 1331,
     "metadata": {},
     "output_type": "execute_result"
    }
   ],
   "source": [
    "model_smote.fit(X_train_smote,y_train_smote)"
   ]
  },
  {
   "cell_type": "code",
   "execution_count": 1332,
   "id": "f6e37637",
   "metadata": {},
   "outputs": [],
   "source": [
    "smote_predictions = model_smote.predict(X_test)"
   ]
  },
  {
   "cell_type": "code",
   "execution_count": 1333,
   "id": "17b7c631",
   "metadata": {},
   "outputs": [
    {
     "name": "stdout",
     "output_type": "stream",
     "text": [
      "              precision    recall  f1-score   support\n",
      "\n",
      "           0       0.99      0.72      0.84     20598\n",
      "           1       0.04      0.73      0.07       312\n",
      "\n",
      "    accuracy                           0.72     20910\n",
      "   macro avg       0.52      0.73      0.45     20910\n",
      "weighted avg       0.98      0.72      0.83     20910\n",
      "\n",
      "[[14884  5714]\n",
      " [   85   227]]\n"
     ]
    }
   ],
   "source": [
    "print(classification_report(y_test,smote_predictions))\n",
    "print(confusion_matrix(y_test,smote_predictions))"
   ]
  },
  {
   "cell_type": "code",
   "execution_count": 1334,
   "id": "361d3362",
   "metadata": {},
   "outputs": [],
   "source": [
    "#new model\n",
    "from imblearn.under_sampling import NearMiss\n"
   ]
  },
  {
   "cell_type": "code",
   "execution_count": 1335,
   "id": "98edd838",
   "metadata": {},
   "outputs": [],
   "source": [
    "X_train = scaler.fit_transform(X_train)\n",
    "X_test = scaler.transform(X_test)"
   ]
  },
  {
   "cell_type": "code",
   "execution_count": 1336,
   "id": "71e3513a",
   "metadata": {},
   "outputs": [],
   "source": [
    "nm = NearMiss(version=1)\n"
   ]
  },
  {
   "cell_type": "code",
   "execution_count": 1337,
   "id": "bf7934be",
   "metadata": {},
   "outputs": [],
   "source": [
    "X_res,y_res=nm.fit_resample(X,y)"
   ]
  },
  {
   "cell_type": "code",
   "execution_count": 1338,
   "id": "58a6e229",
   "metadata": {},
   "outputs": [
    {
     "data": {
      "text/plain": [
       "((2040, 24), (2040,))"
      ]
     },
     "execution_count": 1338,
     "metadata": {},
     "output_type": "execute_result"
    }
   ],
   "source": [
    "X_res.shape,y_res.shape\n"
   ]
  },
  {
   "cell_type": "code",
   "execution_count": null,
   "id": "b0caf53d",
   "metadata": {},
   "outputs": [],
   "source": []
  },
  {
   "cell_type": "code",
   "execution_count": 1339,
   "id": "fd3fe159",
   "metadata": {},
   "outputs": [],
   "source": [
    "X_test = scaler.transform(X_test)"
   ]
  },
  {
   "cell_type": "code",
   "execution_count": 1340,
   "id": "38d07f72",
   "metadata": {},
   "outputs": [
    {
     "data": {
      "text/plain": [
       "(48788, 24)"
      ]
     },
     "execution_count": 1340,
     "metadata": {},
     "output_type": "execute_result"
    }
   ],
   "source": [
    "X_train.shape"
   ]
  },
  {
   "cell_type": "code",
   "execution_count": 1341,
   "id": "c5bdebd7",
   "metadata": {},
   "outputs": [],
   "source": [
    "model_nm = LogisticRegression()"
   ]
  },
  {
   "cell_type": "code",
   "execution_count": 1342,
   "id": "f0b79e0f",
   "metadata": {},
   "outputs": [
    {
     "name": "stderr",
     "output_type": "stream",
     "text": [
      "C:\\Users\\MAYUR\\anaconda3\\lib\\site-packages\\sklearn\\linear_model\\_logistic.py:814: ConvergenceWarning: lbfgs failed to converge (status=1):\n",
      "STOP: TOTAL NO. of ITERATIONS REACHED LIMIT.\n",
      "\n",
      "Increase the number of iterations (max_iter) or scale the data as shown in:\n",
      "    https://scikit-learn.org/stable/modules/preprocessing.html\n",
      "Please also refer to the documentation for alternative solver options:\n",
      "    https://scikit-learn.org/stable/modules/linear_model.html#logistic-regression\n",
      "  n_iter_i = _check_optimize_result(\n"
     ]
    },
    {
     "data": {
      "text/plain": [
       "LogisticRegression()"
      ]
     },
     "execution_count": 1342,
     "metadata": {},
     "output_type": "execute_result"
    }
   ],
   "source": [
    "model_nm.fit(X_res,y_res)"
   ]
  },
  {
   "cell_type": "code",
   "execution_count": 1343,
   "id": "53384d18",
   "metadata": {},
   "outputs": [
    {
     "name": "stderr",
     "output_type": "stream",
     "text": [
      "C:\\Users\\MAYUR\\anaconda3\\lib\\site-packages\\sklearn\\base.py:450: UserWarning: X does not have valid feature names, but LogisticRegression was fitted with feature names\n",
      "  warnings.warn(\n"
     ]
    }
   ],
   "source": [
    "predictions_nm = model_nm.predict(X_test)"
   ]
  },
  {
   "cell_type": "code",
   "execution_count": 1344,
   "id": "e8927ae1",
   "metadata": {},
   "outputs": [
    {
     "name": "stdout",
     "output_type": "stream",
     "text": [
      "              precision    recall  f1-score   support\n",
      "\n",
      "           0       0.99      0.49      0.66     20598\n",
      "           1       0.02      0.80      0.05       312\n",
      "\n",
      "    accuracy                           0.50     20910\n",
      "   macro avg       0.51      0.65      0.35     20910\n",
      "weighted avg       0.98      0.50      0.65     20910\n",
      "\n",
      "[[10163 10435]\n",
      " [   63   249]]\n"
     ]
    }
   ],
   "source": [
    "print(classification_report(y_test,predictions_nm))\n",
    "print(confusion_matrix(y_test,predictions_nm))"
   ]
  },
  {
   "cell_type": "code",
   "execution_count": null,
   "id": "f3fc22e2",
   "metadata": {},
   "outputs": [],
   "source": []
  },
  {
   "cell_type": "code",
   "execution_count": null,
   "id": "a51987cb",
   "metadata": {},
   "outputs": [],
   "source": []
  }
 ],
 "metadata": {
  "kernelspec": {
   "display_name": "Python 3 (ipykernel)",
   "language": "python",
   "name": "python3"
  },
  "language_info": {
   "codemirror_mode": {
    "name": "ipython",
    "version": 3
   },
   "file_extension": ".py",
   "mimetype": "text/x-python",
   "name": "python",
   "nbconvert_exporter": "python",
   "pygments_lexer": "ipython3",
   "version": "3.9.13"
  }
 },
 "nbformat": 4,
 "nbformat_minor": 5
}
